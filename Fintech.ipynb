{
 "cells": [
  {
   "cell_type": "markdown",
   "metadata": {},
   "source": [
    "#### Importing required python library"
   ]
  },
  {
   "cell_type": "code",
   "execution_count": 1,
   "metadata": {
    "ExecuteTime": {
     "end_time": "2021-02-28T15:25:14.144032Z",
     "start_time": "2021-02-28T15:25:05.786787Z"
    }
   },
   "outputs": [],
   "source": [
    "import pandas as pd\n",
    "import numpy as np\n",
    "import seaborn as sns\n",
    "import matplotlib.pyplot as plt"
   ]
  },
  {
   "cell_type": "markdown",
   "metadata": {},
   "source": [
    "#### Loading the train file of dataset and removing the Id"
   ]
  },
  {
   "cell_type": "code",
   "execution_count": 2,
   "metadata": {
    "ExecuteTime": {
     "end_time": "2021-02-28T15:25:18.816710Z",
     "start_time": "2021-02-28T15:25:16.283423Z"
    }
   },
   "outputs": [
    {
     "data": {
      "text/html": [
       "<div>\n",
       "<style scoped>\n",
       "    .dataframe tbody tr th:only-of-type {\n",
       "        vertical-align: middle;\n",
       "    }\n",
       "\n",
       "    .dataframe tbody tr th {\n",
       "        vertical-align: top;\n",
       "    }\n",
       "\n",
       "    .dataframe thead th {\n",
       "        text-align: right;\n",
       "    }\n",
       "</style>\n",
       "<table border=\"1\" class=\"dataframe\">\n",
       "  <thead>\n",
       "    <tr style=\"text-align: right;\">\n",
       "      <th></th>\n",
       "      <th>City_Code</th>\n",
       "      <th>Region_Code</th>\n",
       "      <th>Accomodation_Type</th>\n",
       "      <th>Reco_Insurance_Type</th>\n",
       "      <th>Upper_Age</th>\n",
       "      <th>Lower_Age</th>\n",
       "      <th>Is_Spouse</th>\n",
       "      <th>Health Indicator</th>\n",
       "      <th>Holding_Policy_Duration</th>\n",
       "      <th>Holding_Policy_Type</th>\n",
       "      <th>Reco_Policy_Cat</th>\n",
       "      <th>Reco_Policy_Premium</th>\n",
       "      <th>Response</th>\n",
       "    </tr>\n",
       "  </thead>\n",
       "  <tbody>\n",
       "    <tr>\n",
       "      <th>0</th>\n",
       "      <td>C3</td>\n",
       "      <td>3213</td>\n",
       "      <td>Rented</td>\n",
       "      <td>Individual</td>\n",
       "      <td>36</td>\n",
       "      <td>36</td>\n",
       "      <td>No</td>\n",
       "      <td>X1</td>\n",
       "      <td>14+</td>\n",
       "      <td>3.0</td>\n",
       "      <td>22</td>\n",
       "      <td>11628.0</td>\n",
       "      <td>0</td>\n",
       "    </tr>\n",
       "    <tr>\n",
       "      <th>1</th>\n",
       "      <td>C5</td>\n",
       "      <td>1117</td>\n",
       "      <td>Owned</td>\n",
       "      <td>Joint</td>\n",
       "      <td>75</td>\n",
       "      <td>22</td>\n",
       "      <td>No</td>\n",
       "      <td>X2</td>\n",
       "      <td>NaN</td>\n",
       "      <td>NaN</td>\n",
       "      <td>22</td>\n",
       "      <td>30510.0</td>\n",
       "      <td>0</td>\n",
       "    </tr>\n",
       "    <tr>\n",
       "      <th>2</th>\n",
       "      <td>C5</td>\n",
       "      <td>3732</td>\n",
       "      <td>Owned</td>\n",
       "      <td>Individual</td>\n",
       "      <td>32</td>\n",
       "      <td>32</td>\n",
       "      <td>No</td>\n",
       "      <td>NaN</td>\n",
       "      <td>1.0</td>\n",
       "      <td>1.0</td>\n",
       "      <td>19</td>\n",
       "      <td>7450.0</td>\n",
       "      <td>1</td>\n",
       "    </tr>\n",
       "    <tr>\n",
       "      <th>3</th>\n",
       "      <td>C24</td>\n",
       "      <td>4378</td>\n",
       "      <td>Owned</td>\n",
       "      <td>Joint</td>\n",
       "      <td>52</td>\n",
       "      <td>48</td>\n",
       "      <td>No</td>\n",
       "      <td>X1</td>\n",
       "      <td>14+</td>\n",
       "      <td>3.0</td>\n",
       "      <td>19</td>\n",
       "      <td>17780.0</td>\n",
       "      <td>0</td>\n",
       "    </tr>\n",
       "    <tr>\n",
       "      <th>4</th>\n",
       "      <td>C8</td>\n",
       "      <td>2190</td>\n",
       "      <td>Rented</td>\n",
       "      <td>Individual</td>\n",
       "      <td>44</td>\n",
       "      <td>44</td>\n",
       "      <td>No</td>\n",
       "      <td>X2</td>\n",
       "      <td>3.0</td>\n",
       "      <td>1.0</td>\n",
       "      <td>16</td>\n",
       "      <td>10404.0</td>\n",
       "      <td>0</td>\n",
       "    </tr>\n",
       "  </tbody>\n",
       "</table>\n",
       "</div>"
      ],
      "text/plain": [
       "  City_Code  Region_Code Accomodation_Type Reco_Insurance_Type  Upper_Age  \\\n",
       "0        C3         3213            Rented          Individual         36   \n",
       "1        C5         1117             Owned               Joint         75   \n",
       "2        C5         3732             Owned          Individual         32   \n",
       "3       C24         4378             Owned               Joint         52   \n",
       "4        C8         2190            Rented          Individual         44   \n",
       "\n",
       "   Lower_Age Is_Spouse Health Indicator Holding_Policy_Duration  \\\n",
       "0         36        No               X1                     14+   \n",
       "1         22        No               X2                     NaN   \n",
       "2         32        No              NaN                     1.0   \n",
       "3         48        No               X1                     14+   \n",
       "4         44        No               X2                     3.0   \n",
       "\n",
       "   Holding_Policy_Type  Reco_Policy_Cat  Reco_Policy_Premium  Response  \n",
       "0                  3.0               22              11628.0         0  \n",
       "1                  NaN               22              30510.0         0  \n",
       "2                  1.0               19               7450.0         1  \n",
       "3                  3.0               19              17780.0         0  \n",
       "4                  1.0               16              10404.0         0  "
      ]
     },
     "execution_count": 2,
     "metadata": {},
     "output_type": "execute_result"
    }
   ],
   "source": [
    "df=pd.read_csv('train_Df64byy.csv')\n",
    "df=df.drop(columns=\"ID\",axis=1)\n",
    "df.head()"
   ]
  },
  {
   "cell_type": "markdown",
   "metadata": {},
   "source": [
    " #### checking for the null values in each columns"
   ]
  },
  {
   "cell_type": "code",
   "execution_count": 3,
   "metadata": {
    "ExecuteTime": {
     "end_time": "2021-02-28T15:25:28.245429Z",
     "start_time": "2021-02-28T15:25:28.034666Z"
    }
   },
   "outputs": [
    {
     "data": {
      "text/plain": [
       "City_Code                      0\n",
       "Region_Code                    0\n",
       "Accomodation_Type              0\n",
       "Reco_Insurance_Type            0\n",
       "Upper_Age                      0\n",
       "Lower_Age                      0\n",
       "Is_Spouse                      0\n",
       "Health Indicator           11691\n",
       "Holding_Policy_Duration    20251\n",
       "Holding_Policy_Type        20251\n",
       "Reco_Policy_Cat                0\n",
       "Reco_Policy_Premium            0\n",
       "Response                       0\n",
       "dtype: int64"
      ]
     },
     "execution_count": 3,
     "metadata": {},
     "output_type": "execute_result"
    }
   ],
   "source": [
    "df.isnull().sum()"
   ]
  },
  {
   "cell_type": "code",
   "execution_count": 4,
   "metadata": {
    "ExecuteTime": {
     "end_time": "2021-02-28T15:25:34.899307Z",
     "start_time": "2021-02-28T15:25:34.510685Z"
    }
   },
   "outputs": [
    {
     "name": "stdout",
     "output_type": "stream",
     "text": [
      "<class 'pandas.core.frame.DataFrame'>\n",
      "RangeIndex: 50882 entries, 0 to 50881\n",
      "Data columns (total 13 columns):\n",
      "City_Code                  50882 non-null object\n",
      "Region_Code                50882 non-null int64\n",
      "Accomodation_Type          50882 non-null object\n",
      "Reco_Insurance_Type        50882 non-null object\n",
      "Upper_Age                  50882 non-null int64\n",
      "Lower_Age                  50882 non-null int64\n",
      "Is_Spouse                  50882 non-null object\n",
      "Health Indicator           39191 non-null object\n",
      "Holding_Policy_Duration    30631 non-null object\n",
      "Holding_Policy_Type        30631 non-null float64\n",
      "Reco_Policy_Cat            50882 non-null int64\n",
      "Reco_Policy_Premium        50882 non-null float64\n",
      "Response                   50882 non-null int64\n",
      "dtypes: float64(2), int64(5), object(6)\n",
      "memory usage: 5.0+ MB\n"
     ]
    }
   ],
   "source": [
    "df.info()"
   ]
  },
  {
   "cell_type": "markdown",
   "metadata": {},
   "source": [
    "#### statastical analysis of  numerical values of column"
   ]
  },
  {
   "cell_type": "code",
   "execution_count": 5,
   "metadata": {
    "ExecuteTime": {
     "end_time": "2021-02-28T15:25:45.503358Z",
     "start_time": "2021-02-28T15:25:44.445646Z"
    }
   },
   "outputs": [
    {
     "data": {
      "text/html": [
       "<div>\n",
       "<style scoped>\n",
       "    .dataframe tbody tr th:only-of-type {\n",
       "        vertical-align: middle;\n",
       "    }\n",
       "\n",
       "    .dataframe tbody tr th {\n",
       "        vertical-align: top;\n",
       "    }\n",
       "\n",
       "    .dataframe thead th {\n",
       "        text-align: right;\n",
       "    }\n",
       "</style>\n",
       "<table border=\"1\" class=\"dataframe\">\n",
       "  <thead>\n",
       "    <tr style=\"text-align: right;\">\n",
       "      <th></th>\n",
       "      <th>Region_Code</th>\n",
       "      <th>Upper_Age</th>\n",
       "      <th>Lower_Age</th>\n",
       "      <th>Holding_Policy_Type</th>\n",
       "      <th>Reco_Policy_Cat</th>\n",
       "      <th>Reco_Policy_Premium</th>\n",
       "      <th>Response</th>\n",
       "    </tr>\n",
       "  </thead>\n",
       "  <tbody>\n",
       "    <tr>\n",
       "      <th>count</th>\n",
       "      <td>50882.000000</td>\n",
       "      <td>50882.000000</td>\n",
       "      <td>50882.000000</td>\n",
       "      <td>30631.000000</td>\n",
       "      <td>50882.000000</td>\n",
       "      <td>50882.000000</td>\n",
       "      <td>50882.000000</td>\n",
       "    </tr>\n",
       "    <tr>\n",
       "      <th>mean</th>\n",
       "      <td>1732.788707</td>\n",
       "      <td>44.856275</td>\n",
       "      <td>42.738866</td>\n",
       "      <td>2.439228</td>\n",
       "      <td>15.115188</td>\n",
       "      <td>14183.950069</td>\n",
       "      <td>0.239947</td>\n",
       "    </tr>\n",
       "    <tr>\n",
       "      <th>std</th>\n",
       "      <td>1424.081652</td>\n",
       "      <td>17.310271</td>\n",
       "      <td>17.319375</td>\n",
       "      <td>1.025923</td>\n",
       "      <td>6.340663</td>\n",
       "      <td>6590.074873</td>\n",
       "      <td>0.427055</td>\n",
       "    </tr>\n",
       "    <tr>\n",
       "      <th>min</th>\n",
       "      <td>1.000000</td>\n",
       "      <td>18.000000</td>\n",
       "      <td>16.000000</td>\n",
       "      <td>1.000000</td>\n",
       "      <td>1.000000</td>\n",
       "      <td>2280.000000</td>\n",
       "      <td>0.000000</td>\n",
       "    </tr>\n",
       "    <tr>\n",
       "      <th>25%</th>\n",
       "      <td>523.000000</td>\n",
       "      <td>28.000000</td>\n",
       "      <td>27.000000</td>\n",
       "      <td>1.000000</td>\n",
       "      <td>12.000000</td>\n",
       "      <td>9248.000000</td>\n",
       "      <td>0.000000</td>\n",
       "    </tr>\n",
       "    <tr>\n",
       "      <th>50%</th>\n",
       "      <td>1391.000000</td>\n",
       "      <td>44.000000</td>\n",
       "      <td>40.000000</td>\n",
       "      <td>3.000000</td>\n",
       "      <td>17.000000</td>\n",
       "      <td>13178.000000</td>\n",
       "      <td>0.000000</td>\n",
       "    </tr>\n",
       "    <tr>\n",
       "      <th>75%</th>\n",
       "      <td>2667.000000</td>\n",
       "      <td>59.000000</td>\n",
       "      <td>57.000000</td>\n",
       "      <td>3.000000</td>\n",
       "      <td>20.000000</td>\n",
       "      <td>18096.000000</td>\n",
       "      <td>0.000000</td>\n",
       "    </tr>\n",
       "    <tr>\n",
       "      <th>max</th>\n",
       "      <td>6194.000000</td>\n",
       "      <td>75.000000</td>\n",
       "      <td>75.000000</td>\n",
       "      <td>4.000000</td>\n",
       "      <td>22.000000</td>\n",
       "      <td>43350.400000</td>\n",
       "      <td>1.000000</td>\n",
       "    </tr>\n",
       "  </tbody>\n",
       "</table>\n",
       "</div>"
      ],
      "text/plain": [
       "        Region_Code     Upper_Age     Lower_Age  Holding_Policy_Type  \\\n",
       "count  50882.000000  50882.000000  50882.000000         30631.000000   \n",
       "mean    1732.788707     44.856275     42.738866             2.439228   \n",
       "std     1424.081652     17.310271     17.319375             1.025923   \n",
       "min        1.000000     18.000000     16.000000             1.000000   \n",
       "25%      523.000000     28.000000     27.000000             1.000000   \n",
       "50%     1391.000000     44.000000     40.000000             3.000000   \n",
       "75%     2667.000000     59.000000     57.000000             3.000000   \n",
       "max     6194.000000     75.000000     75.000000             4.000000   \n",
       "\n",
       "       Reco_Policy_Cat  Reco_Policy_Premium      Response  \n",
       "count     50882.000000         50882.000000  50882.000000  \n",
       "mean         15.115188         14183.950069      0.239947  \n",
       "std           6.340663          6590.074873      0.427055  \n",
       "min           1.000000          2280.000000      0.000000  \n",
       "25%          12.000000          9248.000000      0.000000  \n",
       "50%          17.000000         13178.000000      0.000000  \n",
       "75%          20.000000         18096.000000      0.000000  \n",
       "max          22.000000         43350.400000      1.000000  "
      ]
     },
     "execution_count": 5,
     "metadata": {},
     "output_type": "execute_result"
    }
   ],
   "source": [
    "df.describe()"
   ]
  },
  {
   "cell_type": "markdown",
   "metadata": {},
   "source": [
    "### Number of unique city"
   ]
  },
  {
   "cell_type": "code",
   "execution_count": 6,
   "metadata": {
    "ExecuteTime": {
     "end_time": "2021-02-28T15:25:49.179860Z",
     "start_time": "2021-02-28T15:25:48.932702Z"
    }
   },
   "outputs": [
    {
     "data": {
      "text/plain": [
       "36"
      ]
     },
     "execution_count": 6,
     "metadata": {},
     "output_type": "execute_result"
    }
   ],
   "source": [
    "df['City_Code'].nunique()"
   ]
  },
  {
   "cell_type": "markdown",
   "metadata": {},
   "source": [
    "#### Number of unique Accomodation Type"
   ]
  },
  {
   "cell_type": "code",
   "execution_count": 7,
   "metadata": {
    "ExecuteTime": {
     "end_time": "2021-02-28T15:25:52.847049Z",
     "start_time": "2021-02-28T15:25:52.649861Z"
    }
   },
   "outputs": [
    {
     "data": {
      "text/plain": [
       "2"
      ]
     },
     "execution_count": 7,
     "metadata": {},
     "output_type": "execute_result"
    }
   ],
   "source": [
    "df['Accomodation_Type'].nunique()"
   ]
  },
  {
   "cell_type": "code",
   "execution_count": 8,
   "metadata": {
    "ExecuteTime": {
     "end_time": "2021-02-28T15:25:54.122191Z",
     "start_time": "2021-02-28T15:25:53.962667Z"
    }
   },
   "outputs": [
    {
     "data": {
      "text/plain": [
       "array(['Rented', 'Owned'], dtype=object)"
      ]
     },
     "execution_count": 8,
     "metadata": {},
     "output_type": "execute_result"
    }
   ],
   "source": [
    "df['Accomodation_Type'].unique()"
   ]
  },
  {
   "cell_type": "code",
   "execution_count": 9,
   "metadata": {
    "ExecuteTime": {
     "end_time": "2021-02-28T15:25:55.839332Z",
     "start_time": "2021-02-28T15:25:55.649262Z"
    }
   },
   "outputs": [
    {
     "data": {
      "text/plain": [
       "Owned     27951\n",
       "Rented    22931\n",
       "Name: Accomodation_Type, dtype: int64"
      ]
     },
     "execution_count": 9,
     "metadata": {},
     "output_type": "execute_result"
    }
   ],
   "source": [
    "df['Accomodation_Type'].value_counts()"
   ]
  },
  {
   "cell_type": "markdown",
   "metadata": {},
   "source": [
    "### Count of each Accomadation type of Customer"
   ]
  },
  {
   "cell_type": "code",
   "execution_count": 10,
   "metadata": {
    "ExecuteTime": {
     "end_time": "2021-02-28T15:25:59.550180Z",
     "start_time": "2021-02-28T15:25:57.963918Z"
    }
   },
   "outputs": [
    {
     "data": {
      "text/plain": [
       "<Figure size 1440x864 with 0 Axes>"
      ]
     },
     "execution_count": 10,
     "metadata": {},
     "output_type": "execute_result"
    },
    {
     "data": {
      "text/plain": [
       "<matplotlib.axes._subplots.AxesSubplot at 0x21e059cf2e8>"
      ]
     },
     "execution_count": 10,
     "metadata": {},
     "output_type": "execute_result"
    },
    {
     "data": {
      "text/plain": [
       "Text(0.5, 1.0, 'Count of Accomadation type of Customer')"
      ]
     },
     "execution_count": 10,
     "metadata": {},
     "output_type": "execute_result"
    },
    {
     "data": {
      "text/plain": [
       "Text(0.5, 0, 'Accomadation Type')"
      ]
     },
     "execution_count": 10,
     "metadata": {},
     "output_type": "execute_result"
    },
    {
     "data": {
      "text/plain": [
       "Text(0, 0.5, 'Count')"
      ]
     },
     "execution_count": 10,
     "metadata": {},
     "output_type": "execute_result"
    },
    {
     "data": {
      "image/png": "[encoded data removed]",
      "text/plain": [
       "<Figure size 1440x864 with 1 Axes>"
      ]
     },
     "metadata": {
      "needs_background": "light"
     },
     "output_type": "display_data"
    }
   ],
   "source": [
    "plt.figure(figsize=(20,12))\n",
    "df['Accomodation_Type'].value_counts().plot(kind=\"bar\",color=\"yellow\",edgecolor=\"green\")\n",
    "plt.title(\"Count of Accomadation type of Customer\")\n",
    "plt.xlabel(\"Accomadation Type\")\n",
    "plt.ylabel(\"Count\")\n",
    "plt.show()"
   ]
  },
  {
   "cell_type": "code",
   "execution_count": 11,
   "metadata": {
    "ExecuteTime": {
     "end_time": "2021-02-28T15:26:05.394025Z",
     "start_time": "2021-02-28T15:26:05.225548Z"
    }
   },
   "outputs": [
    {
     "data": {
      "text/plain": [
       "Index(['City_Code', 'Region_Code', 'Accomodation_Type', 'Reco_Insurance_Type',\n",
       "       'Upper_Age', 'Lower_Age', 'Is_Spouse', 'Health Indicator',\n",
       "       'Holding_Policy_Duration', 'Holding_Policy_Type', 'Reco_Policy_Cat',\n",
       "       'Reco_Policy_Premium', 'Response'],\n",
       "      dtype='object')"
      ]
     },
     "execution_count": 11,
     "metadata": {},
     "output_type": "execute_result"
    }
   ],
   "source": [
    "df.columns"
   ]
  },
  {
   "cell_type": "markdown",
   "metadata": {},
   "source": [
    "# Number of regions taken into consideration"
   ]
  },
  {
   "cell_type": "code",
   "execution_count": 12,
   "metadata": {
    "ExecuteTime": {
     "end_time": "2021-02-28T15:26:16.394240Z",
     "start_time": "2021-02-28T15:26:16.107104Z"
    }
   },
   "outputs": [
    {
     "data": {
      "text/plain": [
       "5316"
      ]
     },
     "execution_count": 12,
     "metadata": {},
     "output_type": "execute_result"
    }
   ],
   "source": [
    "df.Region_Code.nunique()"
   ]
  },
  {
   "cell_type": "code",
   "execution_count": 13,
   "metadata": {
    "ExecuteTime": {
     "end_time": "2021-02-28T15:26:18.255415Z",
     "start_time": "2021-02-28T15:26:18.085719Z"
    }
   },
   "outputs": [
    {
     "data": {
      "text/plain": [
       "array(['Individual', 'Joint'], dtype=object)"
      ]
     },
     "execution_count": 13,
     "metadata": {},
     "output_type": "execute_result"
    }
   ],
   "source": [
    "df.Reco_Insurance_Type.unique()"
   ]
  },
  {
   "cell_type": "code",
   "execution_count": 14,
   "metadata": {
    "ExecuteTime": {
     "end_time": "2021-02-28T15:26:20.289256Z",
     "start_time": "2021-02-28T15:26:20.118504Z"
    }
   },
   "outputs": [
    {
     "data": {
      "text/plain": [
       "Individual    40536\n",
       "Joint         10346\n",
       "Name: Reco_Insurance_Type, dtype: int64"
      ]
     },
     "execution_count": 14,
     "metadata": {},
     "output_type": "execute_result"
    }
   ],
   "source": [
    "df['Reco_Insurance_Type'].value_counts()"
   ]
  },
  {
   "cell_type": "markdown",
   "metadata": {},
   "source": [
    "### Count of each Recommended insurance type of Customer"
   ]
  },
  {
   "cell_type": "code",
   "execution_count": 15,
   "metadata": {
    "ExecuteTime": {
     "end_time": "2021-02-28T15:26:22.748890Z",
     "start_time": "2021-02-28T15:26:22.130203Z"
    }
   },
   "outputs": [
    {
     "data": {
      "text/plain": [
       "<Figure size 1440x864 with 0 Axes>"
      ]
     },
     "execution_count": 15,
     "metadata": {},
     "output_type": "execute_result"
    },
    {
     "data": {
      "text/plain": [
       "<matplotlib.axes._subplots.AxesSubplot at 0x21e080995c0>"
      ]
     },
     "execution_count": 15,
     "metadata": {},
     "output_type": "execute_result"
    },
    {
     "data": {
      "text/plain": [
       "Text(0.5, 1.0, 'Count of Recommended insurance type of Customer')"
      ]
     },
     "execution_count": 15,
     "metadata": {},
     "output_type": "execute_result"
    },
    {
     "data": {
      "text/plain": [
       "Text(0.5, 0, 'Recommended insurance type')"
      ]
     },
     "execution_count": 15,
     "metadata": {},
     "output_type": "execute_result"
    },
    {
     "data": {
      "text/plain": [
       "Text(0, 0.5, 'Count')"
      ]
     },
     "execution_count": 15,
     "metadata": {},
     "output_type": "execute_result"
    },
    {
     "data": {
      "image/png": "[encoded data removed]",
      "text/plain": [
       "<Figure size 1440x864 with 1 Axes>"
      ]
     },
     "metadata": {
      "needs_background": "light"
     },
     "output_type": "display_data"
    }
   ],
   "source": [
    "plt.figure(figsize=(20,12))\n",
    "df['Reco_Insurance_Type'].value_counts().plot(kind=\"bar\",color=\"yellow\",edgecolor=\"green\")\n",
    "plt.title(\"Count of Recommended insurance type of Customer\")\n",
    "plt.xlabel(\"Recommended insurance type\")\n",
    "plt.ylabel(\"Count\")\n",
    "plt.show()"
   ]
  },
  {
   "cell_type": "markdown",
   "metadata": {
    "ExecuteTime": {
     "end_time": "2021-02-27T11:40:39.302073Z",
     "start_time": "2021-02-27T11:40:39.134742Z"
    }
   },
   "source": [
    "### Code of top ten cities having higher customer"
   ]
  },
  {
   "cell_type": "code",
   "execution_count": 17,
   "metadata": {
    "ExecuteTime": {
     "end_time": "2021-02-28T15:27:10.426666Z",
     "start_time": "2021-02-28T15:27:09.801295Z"
    }
   },
   "outputs": [
    {
     "data": {
      "text/plain": [
       "<Figure size 1440x864 with 0 Axes>"
      ]
     },
     "execution_count": 17,
     "metadata": {},
     "output_type": "execute_result"
    },
    {
     "data": {
      "text/plain": [
       "<matplotlib.axes._subplots.AxesSubplot at 0x21e084f7470>"
      ]
     },
     "execution_count": 17,
     "metadata": {},
     "output_type": "execute_result"
    },
    {
     "data": {
      "text/plain": [
       "Text(0.5, 1.0, 'Count of City code of Customer')"
      ]
     },
     "execution_count": 17,
     "metadata": {},
     "output_type": "execute_result"
    },
    {
     "data": {
      "text/plain": [
       "Text(0.5, 0, 'City code')"
      ]
     },
     "execution_count": 17,
     "metadata": {},
     "output_type": "execute_result"
    },
    {
     "data": {
      "text/plain": [
       "Text(0, 0.5, 'Count')"
      ]
     },
     "execution_count": 17,
     "metadata": {},
     "output_type": "execute_result"
    },
    {
     "data": {
      "image/png": "[encoded data removed]",
      "text/plain": [
       "<Figure size 1440x864 with 1 Axes>"
      ]
     },
     "metadata": {
      "needs_background": "light"
     },
     "output_type": "display_data"
    }
   ],
   "source": [
    "plt.figure(figsize=(20,12))\n",
    "df['City_Code'].value_counts(ascending=False).head(10).plot(kind=\"bar\",color=\"yellow\",edgecolor=\"green\")\n",
    "plt.title(\"Count of City code of Customer\")\n",
    "plt.xlabel(\"City code\")\n",
    "plt.ylabel(\"Count\")\n",
    "plt.show()"
   ]
  },
  {
   "cell_type": "code",
   "execution_count": 18,
   "metadata": {
    "ExecuteTime": {
     "end_time": "2021-02-28T15:27:25.703881Z",
     "start_time": "2021-02-28T15:27:25.516027Z"
    }
   },
   "outputs": [
    {
     "data": {
      "text/plain": [
       "count    50882.000000\n",
       "mean        44.856275\n",
       "std         17.310271\n",
       "min         18.000000\n",
       "25%         28.000000\n",
       "50%         44.000000\n",
       "75%         59.000000\n",
       "max         75.000000\n",
       "Name: Upper_Age, dtype: float64"
      ]
     },
     "execution_count": 18,
     "metadata": {},
     "output_type": "execute_result"
    }
   ],
   "source": [
    "df['Upper_Age'].describe()"
   ]
  },
  {
   "cell_type": "code",
   "execution_count": 19,
   "metadata": {
    "ExecuteTime": {
     "end_time": "2021-02-28T15:27:27.326891Z",
     "start_time": "2021-02-28T15:27:27.157126Z"
    }
   },
   "outputs": [
    {
     "data": {
      "text/plain": [
       "count    50882.000000\n",
       "mean        42.738866\n",
       "std         17.319375\n",
       "min         16.000000\n",
       "25%         27.000000\n",
       "50%         40.000000\n",
       "75%         57.000000\n",
       "max         75.000000\n",
       "Name: Lower_Age, dtype: float64"
      ]
     },
     "execution_count": 19,
     "metadata": {},
     "output_type": "execute_result"
    }
   ],
   "source": [
    "df['Lower_Age'].describe()"
   ]
  },
  {
   "cell_type": "markdown",
   "metadata": {
    "ExecuteTime": {
     "end_time": "2021-02-27T11:51:23.685252Z",
     "start_time": "2021-02-27T11:51:23.458508Z"
    }
   },
   "source": [
    "### Count of top ten recommended policy category"
   ]
  },
  {
   "cell_type": "code",
   "execution_count": 20,
   "metadata": {
    "ExecuteTime": {
     "end_time": "2021-02-28T15:27:36.508935Z",
     "start_time": "2021-02-28T15:27:35.808837Z"
    }
   },
   "outputs": [
    {
     "data": {
      "text/plain": [
       "<Figure size 1440x864 with 0 Axes>"
      ]
     },
     "execution_count": 20,
     "metadata": {},
     "output_type": "execute_result"
    },
    {
     "data": {
      "text/plain": [
       "<matplotlib.axes._subplots.AxesSubplot at 0x21e08554748>"
      ]
     },
     "execution_count": 20,
     "metadata": {},
     "output_type": "execute_result"
    },
    {
     "data": {
      "text/plain": [
       "Text(0.5, 1.0, 'Count of Recommended policy category')"
      ]
     },
     "execution_count": 20,
     "metadata": {},
     "output_type": "execute_result"
    },
    {
     "data": {
      "text/plain": [
       "Text(0.5, 0, 'Recommended policy category')"
      ]
     },
     "execution_count": 20,
     "metadata": {},
     "output_type": "execute_result"
    },
    {
     "data": {
      "text/plain": [
       "Text(0, 0.5, 'Count')"
      ]
     },
     "execution_count": 20,
     "metadata": {},
     "output_type": "execute_result"
    },
    {
     "data": {
      "image/png": "[encoded data removed]",
      "text/plain": [
       "<Figure size 1440x864 with 1 Axes>"
      ]
     },
     "metadata": {
      "needs_background": "light"
     },
     "output_type": "display_data"
    }
   ],
   "source": [
    "plt.figure(figsize=(20,12))\n",
    "df['Reco_Policy_Cat'].value_counts(ascending=False).head(10).plot(kind=\"bar\",color=\"yellow\",edgecolor=\"green\")\n",
    "plt.title(\"Count of Recommended policy category\")\n",
    "plt.xlabel(\"Recommended policy category\")\n",
    "plt.ylabel(\"Count\")\n",
    "plt.show()"
   ]
  },
  {
   "cell_type": "code",
   "execution_count": 21,
   "metadata": {
    "ExecuteTime": {
     "end_time": "2021-02-28T15:27:42.378471Z",
     "start_time": "2021-02-28T15:27:42.194813Z"
    }
   },
   "outputs": [
    {
     "data": {
      "text/plain": [
       "count    50882.000000\n",
       "mean     14183.950069\n",
       "std       6590.074873\n",
       "min       2280.000000\n",
       "25%       9248.000000\n",
       "50%      13178.000000\n",
       "75%      18096.000000\n",
       "max      43350.400000\n",
       "Name: Reco_Policy_Premium, dtype: float64"
      ]
     },
     "execution_count": 21,
     "metadata": {},
     "output_type": "execute_result"
    }
   ],
   "source": [
    "df['Reco_Policy_Premium'].describe()"
   ]
  },
  {
   "cell_type": "markdown",
   "metadata": {},
   "source": [
    "Maximum recommended policy premium is 43350 and minimum recommended policy premium is 2280"
   ]
  },
  {
   "cell_type": "code",
   "execution_count": 22,
   "metadata": {
    "ExecuteTime": {
     "end_time": "2021-02-28T15:27:45.134640Z",
     "start_time": "2021-02-28T15:27:44.964000Z"
    }
   },
   "outputs": [
    {
     "data": {
      "text/plain": [
       "0    38673\n",
       "1    12209\n",
       "Name: Response, dtype: int64"
      ]
     },
     "execution_count": 22,
     "metadata": {},
     "output_type": "execute_result"
    }
   ],
   "source": [
    "df['Response'].value_counts()"
   ]
  },
  {
   "cell_type": "code",
   "execution_count": 23,
   "metadata": {
    "ExecuteTime": {
     "end_time": "2021-02-28T15:27:47.248031Z",
     "start_time": "2021-02-28T15:27:47.015701Z"
    }
   },
   "outputs": [
    {
     "data": {
      "text/plain": [
       "array(['X1', 'X2', nan, 'X4', 'X3', 'X6', 'X5', 'X8', 'X7', 'X9'],\n",
       "      dtype=object)"
      ]
     },
     "execution_count": 23,
     "metadata": {},
     "output_type": "execute_result"
    }
   ],
   "source": [
    "df['Health Indicator'].unique()"
   ]
  },
  {
   "cell_type": "code",
   "execution_count": 24,
   "metadata": {
    "ExecuteTime": {
     "end_time": "2021-02-28T15:27:49.158499Z",
     "start_time": "2021-02-28T15:27:48.998397Z"
    }
   },
   "outputs": [
    {
     "data": {
      "text/plain": [
       "array([ 3., nan,  1.,  4.,  2.])"
      ]
     },
     "execution_count": 24,
     "metadata": {},
     "output_type": "execute_result"
    }
   ],
   "source": [
    "df['Holding_Policy_Type'].unique()"
   ]
  },
  {
   "cell_type": "code",
   "execution_count": 25,
   "metadata": {
    "ExecuteTime": {
     "end_time": "2021-02-28T15:27:50.246676Z",
     "start_time": "2021-02-28T15:27:50.078317Z"
    }
   },
   "outputs": [
    {
     "data": {
      "text/plain": [
       "array(['14+', nan, '1.0', '3.0', '5.0', '9.0', '14.0', '7.0', '2.0',\n",
       "       '11.0', '10.0', '8.0', '6.0', '4.0', '13.0', '12.0'], dtype=object)"
      ]
     },
     "execution_count": 25,
     "metadata": {},
     "output_type": "execute_result"
    }
   ],
   "source": [
    "df['Holding_Policy_Duration'].unique()"
   ]
  },
  {
   "cell_type": "code",
   "execution_count": 26,
   "metadata": {
    "ExecuteTime": {
     "end_time": "2021-02-28T15:27:51.441972Z",
     "start_time": "2021-02-28T15:27:51.264073Z"
    }
   },
   "outputs": [
    {
     "data": {
      "text/plain": [
       "0.2297669116780001"
      ]
     },
     "execution_count": 26,
     "metadata": {},
     "output_type": "execute_result"
    }
   ],
   "source": [
    "df['Health Indicator'].isnull().mean()"
   ]
  },
  {
   "cell_type": "code",
   "execution_count": 27,
   "metadata": {
    "ExecuteTime": {
     "end_time": "2021-02-28T15:27:53.264560Z",
     "start_time": "2021-02-28T15:27:53.103125Z"
    }
   },
   "outputs": [
    {
     "data": {
      "text/plain": [
       "0.3979992924806415"
      ]
     },
     "execution_count": 27,
     "metadata": {},
     "output_type": "execute_result"
    }
   ],
   "source": [
    "df['Holding_Policy_Duration'].isnull().mean()"
   ]
  },
  {
   "cell_type": "code",
   "execution_count": 28,
   "metadata": {
    "ExecuteTime": {
     "end_time": "2021-02-28T15:27:54.346691Z",
     "start_time": "2021-02-28T15:27:54.186015Z"
    }
   },
   "outputs": [
    {
     "data": {
      "text/plain": [
       "0.3979992924806415"
      ]
     },
     "execution_count": 28,
     "metadata": {},
     "output_type": "execute_result"
    }
   ],
   "source": [
    "df['Holding_Policy_Type'].isnull().mean()"
   ]
  },
  {
   "cell_type": "markdown",
   "metadata": {},
   "source": [
    "We have seen around 23 percent missing values in Health Indicator column as well as around 40 percent missing values in Holding Policy duration and Holding Policy Type but since those are important columns for our analysis so we will impute them"
   ]
  },
  {
   "cell_type": "markdown",
   "metadata": {},
   "source": [
    "#### function to impute nan values with most frequent value"
   ]
  },
  {
   "cell_type": "code",
   "execution_count": 29,
   "metadata": {
    "ExecuteTime": {
     "end_time": "2021-02-28T15:27:57.113831Z",
     "start_time": "2021-02-28T15:27:56.940227Z"
    }
   },
   "outputs": [],
   "source": [
    "def impute_nan(df,variable):\n",
    "    most_frequent_category=df[variable].mode()[0]\n",
    "    df[variable].fillna(most_frequent_category,inplace=True)\n"
   ]
  },
  {
   "cell_type": "code",
   "execution_count": 30,
   "metadata": {
    "ExecuteTime": {
     "end_time": "2021-02-28T15:28:00.108453Z",
     "start_time": "2021-02-28T15:27:59.827323Z"
    }
   },
   "outputs": [],
   "source": [
    "\n",
    "for feature in ['Health Indicator','Holding_Policy_Duration','Holding_Policy_Type']:\n",
    "    impute_nan(df,feature)"
   ]
  },
  {
   "cell_type": "code",
   "execution_count": 31,
   "metadata": {
    "ExecuteTime": {
     "end_time": "2021-02-28T15:28:00.915706Z",
     "start_time": "2021-02-28T15:28:00.707822Z"
    }
   },
   "outputs": [
    {
     "data": {
      "text/plain": [
       "City_Code                  0\n",
       "Region_Code                0\n",
       "Accomodation_Type          0\n",
       "Reco_Insurance_Type        0\n",
       "Upper_Age                  0\n",
       "Lower_Age                  0\n",
       "Is_Spouse                  0\n",
       "Health Indicator           0\n",
       "Holding_Policy_Duration    0\n",
       "Holding_Policy_Type        0\n",
       "Reco_Policy_Cat            0\n",
       "Reco_Policy_Premium        0\n",
       "Response                   0\n",
       "dtype: int64"
      ]
     },
     "execution_count": 31,
     "metadata": {},
     "output_type": "execute_result"
    }
   ],
   "source": [
    "df.isnull().sum()"
   ]
  },
  {
   "cell_type": "markdown",
   "metadata": {},
   "source": [
    "### Count of each type of Health Indicator"
   ]
  },
  {
   "cell_type": "code",
   "execution_count": 32,
   "metadata": {
    "ExecuteTime": {
     "end_time": "2021-02-28T15:28:04.547536Z",
     "start_time": "2021-02-28T15:28:03.934009Z"
    }
   },
   "outputs": [
    {
     "data": {
      "text/plain": [
       "<Figure size 1440x864 with 0 Axes>"
      ]
     },
     "execution_count": 32,
     "metadata": {},
     "output_type": "execute_result"
    },
    {
     "data": {
      "text/plain": [
       "<matplotlib.axes._subplots.AxesSubplot at 0x21e085a12e8>"
      ]
     },
     "execution_count": 32,
     "metadata": {},
     "output_type": "execute_result"
    },
    {
     "data": {
      "text/plain": [
       "Text(0.5, 1.0, 'Count of Health Indicator')"
      ]
     },
     "execution_count": 32,
     "metadata": {},
     "output_type": "execute_result"
    },
    {
     "data": {
      "text/plain": [
       "Text(0.5, 0, 'Health Indicator')"
      ]
     },
     "execution_count": 32,
     "metadata": {},
     "output_type": "execute_result"
    },
    {
     "data": {
      "text/plain": [
       "Text(0, 0.5, 'Count')"
      ]
     },
     "execution_count": 32,
     "metadata": {},
     "output_type": "execute_result"
    },
    {
     "data": {
      "image/png": "[encoded data removed]",
      "text/plain": [
       "<Figure size 1440x864 with 1 Axes>"
      ]
     },
     "metadata": {
      "needs_background": "light"
     },
     "output_type": "display_data"
    }
   ],
   "source": [
    "plt.figure(figsize=(20,12))\n",
    "df['Health Indicator'].value_counts(ascending=False).head(10).plot(kind=\"bar\",color=\"yellow\",edgecolor=\"green\")\n",
    "plt.title(\"Count of Health Indicator\")\n",
    "plt.xlabel(\"Health Indicator\")\n",
    "plt.ylabel(\"Count\")\n",
    "plt.show()"
   ]
  },
  {
   "cell_type": "markdown",
   "metadata": {},
   "source": [
    "### Count of each type of duration of Holding policy"
   ]
  },
  {
   "cell_type": "code",
   "execution_count": 33,
   "metadata": {
    "ExecuteTime": {
     "end_time": "2021-02-28T15:28:09.799209Z",
     "start_time": "2021-02-28T15:28:09.156722Z"
    }
   },
   "outputs": [
    {
     "data": {
      "text/plain": [
       "<Figure size 1440x864 with 0 Axes>"
      ]
     },
     "execution_count": 33,
     "metadata": {},
     "output_type": "execute_result"
    },
    {
     "data": {
      "text/plain": [
       "<matplotlib.axes._subplots.AxesSubplot at 0x21e085e0588>"
      ]
     },
     "execution_count": 33,
     "metadata": {},
     "output_type": "execute_result"
    },
    {
     "data": {
      "text/plain": [
       "Text(0.5, 1.0, 'Count of Holding policy duration')"
      ]
     },
     "execution_count": 33,
     "metadata": {},
     "output_type": "execute_result"
    },
    {
     "data": {
      "text/plain": [
       "Text(0.5, 0, 'Holding policy duration')"
      ]
     },
     "execution_count": 33,
     "metadata": {},
     "output_type": "execute_result"
    },
    {
     "data": {
      "text/plain": [
       "Text(0, 0.5, 'Count')"
      ]
     },
     "execution_count": 33,
     "metadata": {},
     "output_type": "execute_result"
    },
    {
     "data": {
      "image/png": "[encoded data removed]",
      "text/plain": [
       "<Figure size 1440x864 with 1 Axes>"
      ]
     },
     "metadata": {
      "needs_background": "light"
     },
     "output_type": "display_data"
    }
   ],
   "source": [
    "plt.figure(figsize=(20,12))\n",
    "df['Holding_Policy_Duration'].value_counts(ascending=False).head(10).plot(kind=\"bar\",color=\"yellow\",edgecolor=\"green\")\n",
    "plt.title(\"Count of Holding policy duration\")\n",
    "plt.xlabel(\"Holding policy duration\")\n",
    "plt.ylabel(\"Count\")\n",
    "plt.show()"
   ]
  },
  {
   "cell_type": "markdown",
   "metadata": {
    "ExecuteTime": {
     "end_time": "2021-02-28T16:05:28.992679Z",
     "start_time": "2021-02-28T16:05:24.697905Z"
    }
   },
   "source": [
    "### Count of Each type of Holding Policy"
   ]
  },
  {
   "cell_type": "code",
   "execution_count": 88,
   "metadata": {
    "ExecuteTime": {
     "end_time": "2021-02-28T16:05:42.502805Z",
     "start_time": "2021-02-28T16:05:29.007848Z"
    }
   },
   "outputs": [
    {
     "data": {
      "text/plain": [
       "<Figure size 1440x864 with 0 Axes>"
      ]
     },
     "execution_count": 88,
     "metadata": {},
     "output_type": "execute_result"
    },
    {
     "data": {
      "text/plain": [
       "<matplotlib.axes._subplots.AxesSubplot at 0x21e0f1e2080>"
      ]
     },
     "execution_count": 88,
     "metadata": {},
     "output_type": "execute_result"
    },
    {
     "data": {
      "text/plain": [
       "Text(0.5, 1.0, 'Count of Holding Policy Type')"
      ]
     },
     "execution_count": 88,
     "metadata": {},
     "output_type": "execute_result"
    },
    {
     "data": {
      "text/plain": [
       "Text(0.5, 0, 'Holding Policy Type')"
      ]
     },
     "execution_count": 88,
     "metadata": {},
     "output_type": "execute_result"
    },
    {
     "data": {
      "text/plain": [
       "Text(0, 0.5, 'Count')"
      ]
     },
     "execution_count": 88,
     "metadata": {},
     "output_type": "execute_result"
    },
    {
     "data": {
      "image/png": "[encoded data removed]",
      "text/plain": [
       "<Figure size 1440x864 with 1 Axes>"
      ]
     },
     "metadata": {
      "needs_background": "light"
     },
     "output_type": "display_data"
    }
   ],
   "source": [
    "plt.figure(figsize=(20,12))\n",
    "df['Holding_Policy_Type'].value_counts(ascending=False).head(10).plot(kind=\"bar\",color=\"yellow\",edgecolor=\"green\")\n",
    "plt.title(\"Count of Holding Policy Type\")\n",
    "plt.xlabel(\"Holding Policy Type\")\n",
    "plt.ylabel(\"Count\")\n",
    "plt.show()"
   ]
  },
  {
   "cell_type": "code",
   "execution_count": 35,
   "metadata": {
    "ExecuteTime": {
     "end_time": "2021-02-28T15:28:23.219883Z",
     "start_time": "2021-02-28T15:28:23.025764Z"
    }
   },
   "outputs": [],
   "source": [
    "df['Holding_Policy_Duration']=df['Holding_Policy_Duration'].str.replace(\"+\",\"\")"
   ]
  },
  {
   "cell_type": "code",
   "execution_count": 36,
   "metadata": {
    "ExecuteTime": {
     "end_time": "2021-02-28T15:28:30.877542Z",
     "start_time": "2021-02-28T15:28:30.708403Z"
    }
   },
   "outputs": [
    {
     "data": {
      "text/plain": [
       "array(['No', 'Yes'], dtype=object)"
      ]
     },
     "execution_count": 36,
     "metadata": {},
     "output_type": "execute_result"
    }
   ],
   "source": [
    "df['Is_Spouse'].unique()"
   ]
  },
  {
   "cell_type": "markdown",
   "metadata": {},
   "source": [
    "#### Performing One Hot Encoding for all categorical variables"
   ]
  },
  {
   "cell_type": "code",
   "execution_count": 37,
   "metadata": {
    "ExecuteTime": {
     "end_time": "2021-02-28T15:28:38.044959Z",
     "start_time": "2021-02-28T15:28:37.628540Z"
    }
   },
   "outputs": [
    {
     "data": {
      "text/html": [
       "<div>\n",
       "<style scoped>\n",
       "    .dataframe tbody tr th:only-of-type {\n",
       "        vertical-align: middle;\n",
       "    }\n",
       "\n",
       "    .dataframe tbody tr th {\n",
       "        vertical-align: top;\n",
       "    }\n",
       "\n",
       "    .dataframe thead th {\n",
       "        text-align: right;\n",
       "    }\n",
       "</style>\n",
       "<table border=\"1\" class=\"dataframe\">\n",
       "  <thead>\n",
       "    <tr style=\"text-align: right;\">\n",
       "      <th></th>\n",
       "      <th>Owned</th>\n",
       "      <th>Rented</th>\n",
       "    </tr>\n",
       "  </thead>\n",
       "  <tbody>\n",
       "    <tr>\n",
       "      <th>0</th>\n",
       "      <td>0</td>\n",
       "      <td>1</td>\n",
       "    </tr>\n",
       "    <tr>\n",
       "      <th>1</th>\n",
       "      <td>1</td>\n",
       "      <td>0</td>\n",
       "    </tr>\n",
       "    <tr>\n",
       "      <th>2</th>\n",
       "      <td>1</td>\n",
       "      <td>0</td>\n",
       "    </tr>\n",
       "    <tr>\n",
       "      <th>3</th>\n",
       "      <td>1</td>\n",
       "      <td>0</td>\n",
       "    </tr>\n",
       "    <tr>\n",
       "      <th>4</th>\n",
       "      <td>0</td>\n",
       "      <td>1</td>\n",
       "    </tr>\n",
       "  </tbody>\n",
       "</table>\n",
       "</div>"
      ],
      "text/plain": [
       "   Owned  Rented\n",
       "0      0       1\n",
       "1      1       0\n",
       "2      1       0\n",
       "3      1       0\n",
       "4      0       1"
      ]
     },
     "execution_count": 37,
     "metadata": {},
     "output_type": "execute_result"
    }
   ],
   "source": [
    "Accomodation = df['Accomodation_Type']\n",
    "Accomodation = pd.get_dummies(data=Accomodation)\n",
    "Accomodation.head()"
   ]
  },
  {
   "cell_type": "code",
   "execution_count": 38,
   "metadata": {
    "ExecuteTime": {
     "end_time": "2021-02-28T15:28:39.550862Z",
     "start_time": "2021-02-28T15:28:39.384668Z"
    }
   },
   "outputs": [
    {
     "data": {
      "text/html": [
       "<div>\n",
       "<style scoped>\n",
       "    .dataframe tbody tr th:only-of-type {\n",
       "        vertical-align: middle;\n",
       "    }\n",
       "\n",
       "    .dataframe tbody tr th {\n",
       "        vertical-align: top;\n",
       "    }\n",
       "\n",
       "    .dataframe thead th {\n",
       "        text-align: right;\n",
       "    }\n",
       "</style>\n",
       "<table border=\"1\" class=\"dataframe\">\n",
       "  <thead>\n",
       "    <tr style=\"text-align: right;\">\n",
       "      <th></th>\n",
       "      <th>Individual</th>\n",
       "      <th>Joint</th>\n",
       "    </tr>\n",
       "  </thead>\n",
       "  <tbody>\n",
       "    <tr>\n",
       "      <th>0</th>\n",
       "      <td>1</td>\n",
       "      <td>0</td>\n",
       "    </tr>\n",
       "    <tr>\n",
       "      <th>1</th>\n",
       "      <td>0</td>\n",
       "      <td>1</td>\n",
       "    </tr>\n",
       "    <tr>\n",
       "      <th>2</th>\n",
       "      <td>1</td>\n",
       "      <td>0</td>\n",
       "    </tr>\n",
       "    <tr>\n",
       "      <th>3</th>\n",
       "      <td>0</td>\n",
       "      <td>1</td>\n",
       "    </tr>\n",
       "    <tr>\n",
       "      <th>4</th>\n",
       "      <td>1</td>\n",
       "      <td>0</td>\n",
       "    </tr>\n",
       "  </tbody>\n",
       "</table>\n",
       "</div>"
      ],
      "text/plain": [
       "   Individual  Joint\n",
       "0           1      0\n",
       "1           0      1\n",
       "2           1      0\n",
       "3           0      1\n",
       "4           1      0"
      ]
     },
     "execution_count": 38,
     "metadata": {},
     "output_type": "execute_result"
    }
   ],
   "source": [
    "Reco_Insurance_Type=df['Reco_Insurance_Type']\n",
    "Reco_Insurance_Type = pd.get_dummies(data=Reco_Insurance_Type)\n",
    "Reco_Insurance_Type.head()"
   ]
  },
  {
   "cell_type": "code",
   "execution_count": 39,
   "metadata": {
    "ExecuteTime": {
     "end_time": "2021-02-28T15:28:40.651764Z",
     "start_time": "2021-02-28T15:28:40.476158Z"
    }
   },
   "outputs": [
    {
     "data": {
      "text/html": [
       "<div>\n",
       "<style scoped>\n",
       "    .dataframe tbody tr th:only-of-type {\n",
       "        vertical-align: middle;\n",
       "    }\n",
       "\n",
       "    .dataframe tbody tr th {\n",
       "        vertical-align: top;\n",
       "    }\n",
       "\n",
       "    .dataframe thead th {\n",
       "        text-align: right;\n",
       "    }\n",
       "</style>\n",
       "<table border=\"1\" class=\"dataframe\">\n",
       "  <thead>\n",
       "    <tr style=\"text-align: right;\">\n",
       "      <th></th>\n",
       "      <th>No</th>\n",
       "      <th>Yes</th>\n",
       "    </tr>\n",
       "  </thead>\n",
       "  <tbody>\n",
       "    <tr>\n",
       "      <th>0</th>\n",
       "      <td>1</td>\n",
       "      <td>0</td>\n",
       "    </tr>\n",
       "    <tr>\n",
       "      <th>1</th>\n",
       "      <td>1</td>\n",
       "      <td>0</td>\n",
       "    </tr>\n",
       "    <tr>\n",
       "      <th>2</th>\n",
       "      <td>1</td>\n",
       "      <td>0</td>\n",
       "    </tr>\n",
       "    <tr>\n",
       "      <th>3</th>\n",
       "      <td>1</td>\n",
       "      <td>0</td>\n",
       "    </tr>\n",
       "    <tr>\n",
       "      <th>4</th>\n",
       "      <td>1</td>\n",
       "      <td>0</td>\n",
       "    </tr>\n",
       "  </tbody>\n",
       "</table>\n",
       "</div>"
      ],
      "text/plain": [
       "   No  Yes\n",
       "0   1    0\n",
       "1   1    0\n",
       "2   1    0\n",
       "3   1    0\n",
       "4   1    0"
      ]
     },
     "execution_count": 39,
     "metadata": {},
     "output_type": "execute_result"
    }
   ],
   "source": [
    "Is_Spouse = df['Is_Spouse']\n",
    "Is_Spouse = pd.get_dummies(data=Is_Spouse)\n",
    "Is_Spouse.head()"
   ]
  },
  {
   "cell_type": "code",
   "execution_count": 40,
   "metadata": {
    "ExecuteTime": {
     "end_time": "2021-02-28T15:28:42.149979Z",
     "start_time": "2021-02-28T15:28:41.974694Z"
    }
   },
   "outputs": [
    {
     "data": {
      "text/html": [
       "<div>\n",
       "<style scoped>\n",
       "    .dataframe tbody tr th:only-of-type {\n",
       "        vertical-align: middle;\n",
       "    }\n",
       "\n",
       "    .dataframe tbody tr th {\n",
       "        vertical-align: top;\n",
       "    }\n",
       "\n",
       "    .dataframe thead th {\n",
       "        text-align: right;\n",
       "    }\n",
       "</style>\n",
       "<table border=\"1\" class=\"dataframe\">\n",
       "  <thead>\n",
       "    <tr style=\"text-align: right;\">\n",
       "      <th></th>\n",
       "      <th>X1</th>\n",
       "      <th>X2</th>\n",
       "      <th>X3</th>\n",
       "      <th>X4</th>\n",
       "      <th>X5</th>\n",
       "      <th>X6</th>\n",
       "      <th>X7</th>\n",
       "      <th>X8</th>\n",
       "      <th>X9</th>\n",
       "    </tr>\n",
       "  </thead>\n",
       "  <tbody>\n",
       "    <tr>\n",
       "      <th>0</th>\n",
       "      <td>1</td>\n",
       "      <td>0</td>\n",
       "      <td>0</td>\n",
       "      <td>0</td>\n",
       "      <td>0</td>\n",
       "      <td>0</td>\n",
       "      <td>0</td>\n",
       "      <td>0</td>\n",
       "      <td>0</td>\n",
       "    </tr>\n",
       "    <tr>\n",
       "      <th>1</th>\n",
       "      <td>0</td>\n",
       "      <td>1</td>\n",
       "      <td>0</td>\n",
       "      <td>0</td>\n",
       "      <td>0</td>\n",
       "      <td>0</td>\n",
       "      <td>0</td>\n",
       "      <td>0</td>\n",
       "      <td>0</td>\n",
       "    </tr>\n",
       "    <tr>\n",
       "      <th>2</th>\n",
       "      <td>1</td>\n",
       "      <td>0</td>\n",
       "      <td>0</td>\n",
       "      <td>0</td>\n",
       "      <td>0</td>\n",
       "      <td>0</td>\n",
       "      <td>0</td>\n",
       "      <td>0</td>\n",
       "      <td>0</td>\n",
       "    </tr>\n",
       "    <tr>\n",
       "      <th>3</th>\n",
       "      <td>1</td>\n",
       "      <td>0</td>\n",
       "      <td>0</td>\n",
       "      <td>0</td>\n",
       "      <td>0</td>\n",
       "      <td>0</td>\n",
       "      <td>0</td>\n",
       "      <td>0</td>\n",
       "      <td>0</td>\n",
       "    </tr>\n",
       "    <tr>\n",
       "      <th>4</th>\n",
       "      <td>0</td>\n",
       "      <td>1</td>\n",
       "      <td>0</td>\n",
       "      <td>0</td>\n",
       "      <td>0</td>\n",
       "      <td>0</td>\n",
       "      <td>0</td>\n",
       "      <td>0</td>\n",
       "      <td>0</td>\n",
       "    </tr>\n",
       "  </tbody>\n",
       "</table>\n",
       "</div>"
      ],
      "text/plain": [
       "   X1  X2  X3  X4  X5  X6  X7  X8  X9\n",
       "0   1   0   0   0   0   0   0   0   0\n",
       "1   0   1   0   0   0   0   0   0   0\n",
       "2   1   0   0   0   0   0   0   0   0\n",
       "3   1   0   0   0   0   0   0   0   0\n",
       "4   0   1   0   0   0   0   0   0   0"
      ]
     },
     "execution_count": 40,
     "metadata": {},
     "output_type": "execute_result"
    }
   ],
   "source": [
    "Health_Indicator=df['Health Indicator']\n",
    "Health_Indicator=pd.get_dummies(data=Health_Indicator)\n",
    "Health_Indicator.head()"
   ]
  },
  {
   "cell_type": "code",
   "execution_count": 41,
   "metadata": {
    "ExecuteTime": {
     "end_time": "2021-02-28T15:28:47.041347Z",
     "start_time": "2021-02-28T15:28:46.823388Z"
    }
   },
   "outputs": [
    {
     "name": "stdout",
     "output_type": "stream",
     "text": [
      "<class 'pandas.core.frame.DataFrame'>\n",
      "RangeIndex: 50882 entries, 0 to 50881\n",
      "Data columns (total 13 columns):\n",
      "City_Code                  50882 non-null object\n",
      "Region_Code                50882 non-null int64\n",
      "Accomodation_Type          50882 non-null object\n",
      "Reco_Insurance_Type        50882 non-null object\n",
      "Upper_Age                  50882 non-null int64\n",
      "Lower_Age                  50882 non-null int64\n",
      "Is_Spouse                  50882 non-null object\n",
      "Health Indicator           50882 non-null object\n",
      "Holding_Policy_Duration    50882 non-null object\n",
      "Holding_Policy_Type        50882 non-null float64\n",
      "Reco_Policy_Cat            50882 non-null int64\n",
      "Reco_Policy_Premium        50882 non-null float64\n",
      "Response                   50882 non-null int64\n",
      "dtypes: float64(2), int64(5), object(6)\n",
      "memory usage: 5.0+ MB\n"
     ]
    }
   ],
   "source": [
    "df.info()"
   ]
  },
  {
   "cell_type": "code",
   "execution_count": 42,
   "metadata": {
    "ExecuteTime": {
     "end_time": "2021-02-28T15:28:57.762034Z",
     "start_time": "2021-02-28T15:28:57.528502Z"
    }
   },
   "outputs": [],
   "source": [
    "df['Holding_Policy_Duration']=df['Holding_Policy_Duration'].astype(float)\n",
    "df['Holding_Policy_Type']=df['Holding_Policy_Type'].astype(float)"
   ]
  },
  {
   "cell_type": "code",
   "execution_count": 43,
   "metadata": {
    "ExecuteTime": {
     "end_time": "2021-02-28T15:28:58.991592Z",
     "start_time": "2021-02-28T15:28:58.833919Z"
    }
   },
   "outputs": [],
   "source": [
    "df.drop(columns=['City_Code','Accomodation_Type','Reco_Insurance_Type','Is_Spouse','Health Indicator'],inplace=True)"
   ]
  },
  {
   "cell_type": "markdown",
   "metadata": {},
   "source": [
    "#### Combining different dataset into one"
   ]
  },
  {
   "cell_type": "code",
   "execution_count": 44,
   "metadata": {
    "ExecuteTime": {
     "end_time": "2021-02-28T15:28:59.971477Z",
     "start_time": "2021-02-28T15:28:59.795902Z"
    }
   },
   "outputs": [],
   "source": [
    "df_train=pd.concat([df,Accomodation,Reco_Insurance_Type,Is_Spouse,Health_Indicator],axis=1)"
   ]
  },
  {
   "cell_type": "code",
   "execution_count": 45,
   "metadata": {
    "ExecuteTime": {
     "end_time": "2021-02-28T15:29:41.696602Z",
     "start_time": "2021-02-28T15:29:41.522411Z"
    }
   },
   "outputs": [],
   "source": [
    "\n",
    "y=df_train['Response']\n"
   ]
  },
  {
   "cell_type": "code",
   "execution_count": 46,
   "metadata": {
    "ExecuteTime": {
     "end_time": "2021-02-28T15:29:42.836238Z",
     "start_time": "2021-02-28T15:29:42.665634Z"
    }
   },
   "outputs": [],
   "source": [
    "df_train.drop(columns=\"Response\",inplace=True)"
   ]
  },
  {
   "cell_type": "code",
   "execution_count": 47,
   "metadata": {
    "ExecuteTime": {
     "end_time": "2021-02-28T15:29:44.079505Z",
     "start_time": "2021-02-28T15:29:43.919218Z"
    }
   },
   "outputs": [],
   "source": [
    "X=df_train.iloc[:,:]"
   ]
  },
  {
   "cell_type": "markdown",
   "metadata": {},
   "source": [
    "Feature Selection¶\n",
    "Finding out the best feature which will contribute and have good relation with target variable. Following are some of the feature selection methods,\n",
    "\n",
    "**heatmap**\n",
    "\n",
    "**feature_importance_**"
   ]
  },
  {
   "cell_type": "code",
   "execution_count": 48,
   "metadata": {
    "ExecuteTime": {
     "end_time": "2021-02-28T15:30:00.572803Z",
     "start_time": "2021-02-28T15:29:55.868571Z"
    }
   },
   "outputs": [
    {
     "name": "stderr",
     "output_type": "stream",
     "text": [
      "C:\\Users\\shakil uz zaman\\.conda\\envs\\py35\\lib\\site-packages\\sklearn\\ensemble\\forest.py:248: FutureWarning:\n",
      "\n",
      "The default value of n_estimators will change from 10 in version 0.20 to 100 in 0.22.\n",
      "\n"
     ]
    },
    {
     "data": {
      "text/plain": [
       "ExtraTreesClassifier(bootstrap=False, class_weight=None, criterion='gini',\n",
       "           max_depth=None, max_features='auto', max_leaf_nodes=None,\n",
       "           min_impurity_decrease=0.0, min_impurity_split=None,\n",
       "           min_samples_leaf=1, min_samples_split=2,\n",
       "           min_weight_fraction_leaf=0.0, n_estimators=10, n_jobs=None,\n",
       "           oob_score=False, random_state=None, verbose=0, warm_start=False)"
      ]
     },
     "execution_count": 48,
     "metadata": {},
     "output_type": "execute_result"
    }
   ],
   "source": [
    "from sklearn.ensemble import ExtraTreesClassifier\n",
    "model=ExtraTreesClassifier()\n",
    "model.fit(X,y)"
   ]
  },
  {
   "cell_type": "code",
   "execution_count": 49,
   "metadata": {
    "ExecuteTime": {
     "end_time": "2021-02-28T15:30:07.879094Z",
     "start_time": "2021-02-28T15:30:07.598941Z"
    }
   },
   "outputs": [
    {
     "name": "stdout",
     "output_type": "stream",
     "text": [
      "[0.21925205 0.11962824 0.12065276 0.08157937 0.04713626 0.14498416\n",
      " 0.21505673 0.00375041 0.00387263 0.00097809 0.001105   0.00109382\n",
      " 0.00099587 0.00912662 0.00871625 0.0061148  0.00645957 0.00375954\n",
      " 0.00364287 0.0008897  0.00067448 0.00053079]\n"
     ]
    }
   ],
   "source": [
    "print(model.feature_importances_)"
   ]
  },
  {
   "cell_type": "markdown",
   "metadata": {
    "ExecuteTime": {
     "end_time": "2021-02-28T16:10:02.888896Z",
     "start_time": "2021-02-28T16:10:02.568867Z"
    }
   },
   "source": [
    "### Plot of 10 ten feature based on feature importance"
   ]
  },
  {
   "cell_type": "code",
   "execution_count": 90,
   "metadata": {
    "ExecuteTime": {
     "end_time": "2021-02-28T16:10:32.241747Z",
     "start_time": "2021-02-28T16:10:30.020298Z"
    }
   },
   "outputs": [
    {
     "data": {
      "text/plain": [
       "<Figure size 864x576 with 0 Axes>"
      ]
     },
     "execution_count": 90,
     "metadata": {},
     "output_type": "execute_result"
    },
    {
     "data": {
      "text/plain": [
       "<matplotlib.axes._subplots.AxesSubplot at 0x21e0ec1d208>"
      ]
     },
     "execution_count": 90,
     "metadata": {},
     "output_type": "execute_result"
    },
    {
     "data": {
      "image/png": "[encoded data removed]",
      "text/plain": [
       "<Figure size 864x576 with 1 Axes>"
      ]
     },
     "metadata": {
      "needs_background": "light"
     },
     "output_type": "display_data"
    }
   ],
   "source": [
    "plt.figure(figsize = (12,8))\n",
    "feat_importances = pd.Series(model.feature_importances_, index=X.columns)\n",
    "feat_importances.nlargest(10).plot(kind='barh')\n",
    "plt.show()"
   ]
  },
  {
   "cell_type": "code",
   "execution_count": 51,
   "metadata": {
    "ExecuteTime": {
     "end_time": "2021-02-28T15:30:39.569943Z",
     "start_time": "2021-02-28T15:30:39.238159Z"
    }
   },
   "outputs": [
    {
     "data": {
      "text/html": [
       "<div>\n",
       "<style scoped>\n",
       "    .dataframe tbody tr th:only-of-type {\n",
       "        vertical-align: middle;\n",
       "    }\n",
       "\n",
       "    .dataframe tbody tr th {\n",
       "        vertical-align: top;\n",
       "    }\n",
       "\n",
       "    .dataframe thead th {\n",
       "        text-align: right;\n",
       "    }\n",
       "</style>\n",
       "<table border=\"1\" class=\"dataframe\">\n",
       "  <thead>\n",
       "    <tr style=\"text-align: right;\">\n",
       "      <th></th>\n",
       "      <th>Region_Code</th>\n",
       "      <th>Upper_Age</th>\n",
       "      <th>Lower_Age</th>\n",
       "      <th>Holding_Policy_Duration</th>\n",
       "      <th>Holding_Policy_Type</th>\n",
       "      <th>Reco_Policy_Cat</th>\n",
       "      <th>Reco_Policy_Premium</th>\n",
       "      <th>Owned</th>\n",
       "      <th>Rented</th>\n",
       "      <th>Individual</th>\n",
       "      <th>...</th>\n",
       "      <th>Yes</th>\n",
       "      <th>X1</th>\n",
       "      <th>X2</th>\n",
       "      <th>X3</th>\n",
       "      <th>X4</th>\n",
       "      <th>X5</th>\n",
       "      <th>X6</th>\n",
       "      <th>X7</th>\n",
       "      <th>X8</th>\n",
       "      <th>X9</th>\n",
       "    </tr>\n",
       "  </thead>\n",
       "  <tbody>\n",
       "    <tr>\n",
       "      <th>Region_Code</th>\n",
       "      <td>1.000000</td>\n",
       "      <td>-0.005649</td>\n",
       "      <td>-0.005928</td>\n",
       "      <td>0.014130</td>\n",
       "      <td>0.009348</td>\n",
       "      <td>-0.065120</td>\n",
       "      <td>-0.010797</td>\n",
       "      <td>-0.009105</td>\n",
       "      <td>0.009105</td>\n",
       "      <td>0.004275</td>\n",
       "      <td>...</td>\n",
       "      <td>-0.002567</td>\n",
       "      <td>-0.016553</td>\n",
       "      <td>0.004497</td>\n",
       "      <td>0.001688</td>\n",
       "      <td>0.011805</td>\n",
       "      <td>0.008920</td>\n",
       "      <td>0.001703</td>\n",
       "      <td>-0.002992</td>\n",
       "      <td>0.013479</td>\n",
       "      <td>-0.001955</td>\n",
       "    </tr>\n",
       "    <tr>\n",
       "      <th>Upper_Age</th>\n",
       "      <td>-0.005649</td>\n",
       "      <td>1.000000</td>\n",
       "      <td>0.921392</td>\n",
       "      <td>0.371808</td>\n",
       "      <td>0.002579</td>\n",
       "      <td>0.025257</td>\n",
       "      <td>0.792689</td>\n",
       "      <td>0.419129</td>\n",
       "      <td>-0.419129</td>\n",
       "      <td>-0.227119</td>\n",
       "      <td>...</td>\n",
       "      <td>0.202947</td>\n",
       "      <td>-0.014932</td>\n",
       "      <td>0.018416</td>\n",
       "      <td>-0.031266</td>\n",
       "      <td>0.012452</td>\n",
       "      <td>0.033659</td>\n",
       "      <td>-0.006446</td>\n",
       "      <td>0.022272</td>\n",
       "      <td>0.005810</td>\n",
       "      <td>0.001003</td>\n",
       "    </tr>\n",
       "    <tr>\n",
       "      <th>Lower_Age</th>\n",
       "      <td>-0.005928</td>\n",
       "      <td>0.921392</td>\n",
       "      <td>1.000000</td>\n",
       "      <td>0.335421</td>\n",
       "      <td>-0.001842</td>\n",
       "      <td>0.021163</td>\n",
       "      <td>0.615739</td>\n",
       "      <td>0.369400</td>\n",
       "      <td>-0.369400</td>\n",
       "      <td>0.014998</td>\n",
       "      <td>...</td>\n",
       "      <td>0.062634</td>\n",
       "      <td>-0.012176</td>\n",
       "      <td>0.020164</td>\n",
       "      <td>-0.033854</td>\n",
       "      <td>0.013067</td>\n",
       "      <td>0.031052</td>\n",
       "      <td>-0.011230</td>\n",
       "      <td>0.021363</td>\n",
       "      <td>0.003201</td>\n",
       "      <td>0.000531</td>\n",
       "    </tr>\n",
       "    <tr>\n",
       "      <th>Holding_Policy_Duration</th>\n",
       "      <td>0.014130</td>\n",
       "      <td>0.371808</td>\n",
       "      <td>0.335421</td>\n",
       "      <td>1.000000</td>\n",
       "      <td>-0.084607</td>\n",
       "      <td>0.035704</td>\n",
       "      <td>0.283997</td>\n",
       "      <td>0.223303</td>\n",
       "      <td>-0.223303</td>\n",
       "      <td>-0.103109</td>\n",
       "      <td>...</td>\n",
       "      <td>0.092115</td>\n",
       "      <td>-0.015795</td>\n",
       "      <td>0.013032</td>\n",
       "      <td>-0.014073</td>\n",
       "      <td>0.016496</td>\n",
       "      <td>0.022318</td>\n",
       "      <td>-0.018066</td>\n",
       "      <td>0.012354</td>\n",
       "      <td>0.001471</td>\n",
       "      <td>0.004947</td>\n",
       "    </tr>\n",
       "    <tr>\n",
       "      <th>Holding_Policy_Type</th>\n",
       "      <td>0.009348</td>\n",
       "      <td>0.002579</td>\n",
       "      <td>-0.001842</td>\n",
       "      <td>-0.084607</td>\n",
       "      <td>1.000000</td>\n",
       "      <td>0.053760</td>\n",
       "      <td>0.012266</td>\n",
       "      <td>0.055255</td>\n",
       "      <td>-0.055255</td>\n",
       "      <td>-0.033907</td>\n",
       "      <td>...</td>\n",
       "      <td>0.043596</td>\n",
       "      <td>-0.020657</td>\n",
       "      <td>0.011136</td>\n",
       "      <td>-0.042030</td>\n",
       "      <td>0.044241</td>\n",
       "      <td>0.042282</td>\n",
       "      <td>-0.016678</td>\n",
       "      <td>0.018150</td>\n",
       "      <td>-0.003978</td>\n",
       "      <td>0.002833</td>\n",
       "    </tr>\n",
       "    <tr>\n",
       "      <th>Reco_Policy_Cat</th>\n",
       "      <td>-0.065120</td>\n",
       "      <td>0.025257</td>\n",
       "      <td>0.021163</td>\n",
       "      <td>0.035704</td>\n",
       "      <td>0.053760</td>\n",
       "      <td>1.000000</td>\n",
       "      <td>0.060989</td>\n",
       "      <td>0.022055</td>\n",
       "      <td>-0.022055</td>\n",
       "      <td>-0.020826</td>\n",
       "      <td>...</td>\n",
       "      <td>0.022676</td>\n",
       "      <td>-0.001639</td>\n",
       "      <td>0.007119</td>\n",
       "      <td>-0.014307</td>\n",
       "      <td>0.014678</td>\n",
       "      <td>0.011949</td>\n",
       "      <td>-0.023226</td>\n",
       "      <td>0.013131</td>\n",
       "      <td>-0.019330</td>\n",
       "      <td>-0.011834</td>\n",
       "    </tr>\n",
       "    <tr>\n",
       "      <th>Reco_Policy_Premium</th>\n",
       "      <td>-0.010797</td>\n",
       "      <td>0.792689</td>\n",
       "      <td>0.615739</td>\n",
       "      <td>0.283997</td>\n",
       "      <td>0.012266</td>\n",
       "      <td>0.060989</td>\n",
       "      <td>1.000000</td>\n",
       "      <td>0.350514</td>\n",
       "      <td>-0.350514</td>\n",
       "      <td>-0.596160</td>\n",
       "      <td>...</td>\n",
       "      <td>0.514727</td>\n",
       "      <td>-0.027360</td>\n",
       "      <td>0.021991</td>\n",
       "      <td>-0.037375</td>\n",
       "      <td>0.025462</td>\n",
       "      <td>0.051663</td>\n",
       "      <td>-0.012808</td>\n",
       "      <td>0.034073</td>\n",
       "      <td>0.001414</td>\n",
       "      <td>-0.001613</td>\n",
       "    </tr>\n",
       "    <tr>\n",
       "      <th>Owned</th>\n",
       "      <td>-0.009105</td>\n",
       "      <td>0.419129</td>\n",
       "      <td>0.369400</td>\n",
       "      <td>0.223303</td>\n",
       "      <td>0.055255</td>\n",
       "      <td>0.022055</td>\n",
       "      <td>0.350514</td>\n",
       "      <td>1.000000</td>\n",
       "      <td>-1.000000</td>\n",
       "      <td>-0.196833</td>\n",
       "      <td>...</td>\n",
       "      <td>0.191045</td>\n",
       "      <td>-0.035248</td>\n",
       "      <td>0.031060</td>\n",
       "      <td>-0.059642</td>\n",
       "      <td>0.058694</td>\n",
       "      <td>0.053728</td>\n",
       "      <td>-0.029799</td>\n",
       "      <td>0.023804</td>\n",
       "      <td>0.005202</td>\n",
       "      <td>0.001564</td>\n",
       "    </tr>\n",
       "    <tr>\n",
       "      <th>Rented</th>\n",
       "      <td>0.009105</td>\n",
       "      <td>-0.419129</td>\n",
       "      <td>-0.369400</td>\n",
       "      <td>-0.223303</td>\n",
       "      <td>-0.055255</td>\n",
       "      <td>-0.022055</td>\n",
       "      <td>-0.350514</td>\n",
       "      <td>-1.000000</td>\n",
       "      <td>1.000000</td>\n",
       "      <td>0.196833</td>\n",
       "      <td>...</td>\n",
       "      <td>-0.191045</td>\n",
       "      <td>0.035248</td>\n",
       "      <td>-0.031060</td>\n",
       "      <td>0.059642</td>\n",
       "      <td>-0.058694</td>\n",
       "      <td>-0.053728</td>\n",
       "      <td>0.029799</td>\n",
       "      <td>-0.023804</td>\n",
       "      <td>-0.005202</td>\n",
       "      <td>-0.001564</td>\n",
       "    </tr>\n",
       "    <tr>\n",
       "      <th>Individual</th>\n",
       "      <td>0.004275</td>\n",
       "      <td>-0.227119</td>\n",
       "      <td>0.014998</td>\n",
       "      <td>-0.103109</td>\n",
       "      <td>-0.033907</td>\n",
       "      <td>-0.020826</td>\n",
       "      <td>-0.596160</td>\n",
       "      <td>-0.196833</td>\n",
       "      <td>0.196833</td>\n",
       "      <td>1.000000</td>\n",
       "      <td>...</td>\n",
       "      <td>-0.881560</td>\n",
       "      <td>0.033662</td>\n",
       "      <td>-0.023326</td>\n",
       "      <td>0.036672</td>\n",
       "      <td>-0.033526</td>\n",
       "      <td>-0.047959</td>\n",
       "      <td>0.005696</td>\n",
       "      <td>-0.018246</td>\n",
       "      <td>-0.006415</td>\n",
       "      <td>-0.003041</td>\n",
       "    </tr>\n",
       "    <tr>\n",
       "      <th>Joint</th>\n",
       "      <td>-0.004275</td>\n",
       "      <td>0.227119</td>\n",
       "      <td>-0.014998</td>\n",
       "      <td>0.103109</td>\n",
       "      <td>0.033907</td>\n",
       "      <td>0.020826</td>\n",
       "      <td>0.596160</td>\n",
       "      <td>0.196833</td>\n",
       "      <td>-0.196833</td>\n",
       "      <td>-1.000000</td>\n",
       "      <td>...</td>\n",
       "      <td>0.881560</td>\n",
       "      <td>-0.033662</td>\n",
       "      <td>0.023326</td>\n",
       "      <td>-0.036672</td>\n",
       "      <td>0.033526</td>\n",
       "      <td>0.047959</td>\n",
       "      <td>-0.005696</td>\n",
       "      <td>0.018246</td>\n",
       "      <td>0.006415</td>\n",
       "      <td>0.003041</td>\n",
       "    </tr>\n",
       "    <tr>\n",
       "      <th>No</th>\n",
       "      <td>0.002567</td>\n",
       "      <td>-0.202947</td>\n",
       "      <td>-0.062634</td>\n",
       "      <td>-0.092115</td>\n",
       "      <td>-0.043596</td>\n",
       "      <td>-0.022676</td>\n",
       "      <td>-0.514727</td>\n",
       "      <td>-0.191045</td>\n",
       "      <td>0.191045</td>\n",
       "      <td>0.881560</td>\n",
       "      <td>...</td>\n",
       "      <td>-1.000000</td>\n",
       "      <td>0.038568</td>\n",
       "      <td>-0.031529</td>\n",
       "      <td>0.048798</td>\n",
       "      <td>-0.041682</td>\n",
       "      <td>-0.057866</td>\n",
       "      <td>0.013124</td>\n",
       "      <td>-0.020111</td>\n",
       "      <td>-0.005528</td>\n",
       "      <td>-0.002364</td>\n",
       "    </tr>\n",
       "    <tr>\n",
       "      <th>Yes</th>\n",
       "      <td>-0.002567</td>\n",
       "      <td>0.202947</td>\n",
       "      <td>0.062634</td>\n",
       "      <td>0.092115</td>\n",
       "      <td>0.043596</td>\n",
       "      <td>0.022676</td>\n",
       "      <td>0.514727</td>\n",
       "      <td>0.191045</td>\n",
       "      <td>-0.191045</td>\n",
       "      <td>-0.881560</td>\n",
       "      <td>...</td>\n",
       "      <td>1.000000</td>\n",
       "      <td>-0.038568</td>\n",
       "      <td>0.031529</td>\n",
       "      <td>-0.048798</td>\n",
       "      <td>0.041682</td>\n",
       "      <td>0.057866</td>\n",
       "      <td>-0.013124</td>\n",
       "      <td>0.020111</td>\n",
       "      <td>0.005528</td>\n",
       "      <td>0.002364</td>\n",
       "    </tr>\n",
       "    <tr>\n",
       "      <th>X1</th>\n",
       "      <td>-0.016553</td>\n",
       "      <td>-0.014932</td>\n",
       "      <td>-0.012176</td>\n",
       "      <td>-0.015795</td>\n",
       "      <td>-0.020657</td>\n",
       "      <td>-0.001639</td>\n",
       "      <td>-0.027360</td>\n",
       "      <td>-0.035248</td>\n",
       "      <td>0.035248</td>\n",
       "      <td>0.033662</td>\n",
       "      <td>...</td>\n",
       "      <td>-0.038568</td>\n",
       "      <td>1.000000</td>\n",
       "      <td>-0.490299</td>\n",
       "      <td>-0.380263</td>\n",
       "      <td>-0.346464</td>\n",
       "      <td>-0.182065</td>\n",
       "      <td>-0.156034</td>\n",
       "      <td>-0.060402</td>\n",
       "      <td>-0.038059</td>\n",
       "      <td>-0.034200</td>\n",
       "    </tr>\n",
       "    <tr>\n",
       "      <th>X2</th>\n",
       "      <td>0.004497</td>\n",
       "      <td>0.018416</td>\n",
       "      <td>0.020164</td>\n",
       "      <td>0.013032</td>\n",
       "      <td>0.011136</td>\n",
       "      <td>0.007119</td>\n",
       "      <td>0.021991</td>\n",
       "      <td>0.031060</td>\n",
       "      <td>-0.031060</td>\n",
       "      <td>-0.023326</td>\n",
       "      <td>...</td>\n",
       "      <td>0.031529</td>\n",
       "      <td>-0.490299</td>\n",
       "      <td>1.000000</td>\n",
       "      <td>-0.197613</td>\n",
       "      <td>-0.180049</td>\n",
       "      <td>-0.094615</td>\n",
       "      <td>-0.081087</td>\n",
       "      <td>-0.031389</td>\n",
       "      <td>-0.019779</td>\n",
       "      <td>-0.017773</td>\n",
       "    </tr>\n",
       "    <tr>\n",
       "      <th>X3</th>\n",
       "      <td>0.001688</td>\n",
       "      <td>-0.031266</td>\n",
       "      <td>-0.033854</td>\n",
       "      <td>-0.014073</td>\n",
       "      <td>-0.042030</td>\n",
       "      <td>-0.014307</td>\n",
       "      <td>-0.037375</td>\n",
       "      <td>-0.059642</td>\n",
       "      <td>0.059642</td>\n",
       "      <td>0.036672</td>\n",
       "      <td>...</td>\n",
       "      <td>-0.048798</td>\n",
       "      <td>-0.380263</td>\n",
       "      <td>-0.197613</td>\n",
       "      <td>1.000000</td>\n",
       "      <td>-0.139641</td>\n",
       "      <td>-0.073381</td>\n",
       "      <td>-0.062889</td>\n",
       "      <td>-0.024345</td>\n",
       "      <td>-0.015340</td>\n",
       "      <td>-0.013784</td>\n",
       "    </tr>\n",
       "    <tr>\n",
       "      <th>X4</th>\n",
       "      <td>0.011805</td>\n",
       "      <td>0.012452</td>\n",
       "      <td>0.013067</td>\n",
       "      <td>0.016496</td>\n",
       "      <td>0.044241</td>\n",
       "      <td>0.014678</td>\n",
       "      <td>0.025462</td>\n",
       "      <td>0.058694</td>\n",
       "      <td>-0.058694</td>\n",
       "      <td>-0.033526</td>\n",
       "      <td>...</td>\n",
       "      <td>0.041682</td>\n",
       "      <td>-0.346464</td>\n",
       "      <td>-0.180049</td>\n",
       "      <td>-0.139641</td>\n",
       "      <td>1.000000</td>\n",
       "      <td>-0.066858</td>\n",
       "      <td>-0.057299</td>\n",
       "      <td>-0.022181</td>\n",
       "      <td>-0.013976</td>\n",
       "      <td>-0.012559</td>\n",
       "    </tr>\n",
       "    <tr>\n",
       "      <th>X5</th>\n",
       "      <td>0.008920</td>\n",
       "      <td>0.033659</td>\n",
       "      <td>0.031052</td>\n",
       "      <td>0.022318</td>\n",
       "      <td>0.042282</td>\n",
       "      <td>0.011949</td>\n",
       "      <td>0.051663</td>\n",
       "      <td>0.053728</td>\n",
       "      <td>-0.053728</td>\n",
       "      <td>-0.047959</td>\n",
       "      <td>...</td>\n",
       "      <td>0.057866</td>\n",
       "      <td>-0.182065</td>\n",
       "      <td>-0.094615</td>\n",
       "      <td>-0.073381</td>\n",
       "      <td>-0.066858</td>\n",
       "      <td>1.000000</td>\n",
       "      <td>-0.030110</td>\n",
       "      <td>-0.011656</td>\n",
       "      <td>-0.007344</td>\n",
       "      <td>-0.006600</td>\n",
       "    </tr>\n",
       "    <tr>\n",
       "      <th>X6</th>\n",
       "      <td>0.001703</td>\n",
       "      <td>-0.006446</td>\n",
       "      <td>-0.011230</td>\n",
       "      <td>-0.018066</td>\n",
       "      <td>-0.016678</td>\n",
       "      <td>-0.023226</td>\n",
       "      <td>-0.012808</td>\n",
       "      <td>-0.029799</td>\n",
       "      <td>0.029799</td>\n",
       "      <td>0.005696</td>\n",
       "      <td>...</td>\n",
       "      <td>-0.013124</td>\n",
       "      <td>-0.156034</td>\n",
       "      <td>-0.081087</td>\n",
       "      <td>-0.062889</td>\n",
       "      <td>-0.057299</td>\n",
       "      <td>-0.030110</td>\n",
       "      <td>1.000000</td>\n",
       "      <td>-0.009989</td>\n",
       "      <td>-0.006294</td>\n",
       "      <td>-0.005656</td>\n",
       "    </tr>\n",
       "    <tr>\n",
       "      <th>X7</th>\n",
       "      <td>-0.002992</td>\n",
       "      <td>0.022272</td>\n",
       "      <td>0.021363</td>\n",
       "      <td>0.012354</td>\n",
       "      <td>0.018150</td>\n",
       "      <td>0.013131</td>\n",
       "      <td>0.034073</td>\n",
       "      <td>0.023804</td>\n",
       "      <td>-0.023804</td>\n",
       "      <td>-0.018246</td>\n",
       "      <td>...</td>\n",
       "      <td>0.020111</td>\n",
       "      <td>-0.060402</td>\n",
       "      <td>-0.031389</td>\n",
       "      <td>-0.024345</td>\n",
       "      <td>-0.022181</td>\n",
       "      <td>-0.011656</td>\n",
       "      <td>-0.009989</td>\n",
       "      <td>1.000000</td>\n",
       "      <td>-0.002437</td>\n",
       "      <td>-0.002189</td>\n",
       "    </tr>\n",
       "    <tr>\n",
       "      <th>X8</th>\n",
       "      <td>0.013479</td>\n",
       "      <td>0.005810</td>\n",
       "      <td>0.003201</td>\n",
       "      <td>0.001471</td>\n",
       "      <td>-0.003978</td>\n",
       "      <td>-0.019330</td>\n",
       "      <td>0.001414</td>\n",
       "      <td>0.005202</td>\n",
       "      <td>-0.005202</td>\n",
       "      <td>-0.006415</td>\n",
       "      <td>...</td>\n",
       "      <td>0.005528</td>\n",
       "      <td>-0.038059</td>\n",
       "      <td>-0.019779</td>\n",
       "      <td>-0.015340</td>\n",
       "      <td>-0.013976</td>\n",
       "      <td>-0.007344</td>\n",
       "      <td>-0.006294</td>\n",
       "      <td>-0.002437</td>\n",
       "      <td>1.000000</td>\n",
       "      <td>-0.001380</td>\n",
       "    </tr>\n",
       "    <tr>\n",
       "      <th>X9</th>\n",
       "      <td>-0.001955</td>\n",
       "      <td>0.001003</td>\n",
       "      <td>0.000531</td>\n",
       "      <td>0.004947</td>\n",
       "      <td>0.002833</td>\n",
       "      <td>-0.011834</td>\n",
       "      <td>-0.001613</td>\n",
       "      <td>0.001564</td>\n",
       "      <td>-0.001564</td>\n",
       "      <td>-0.003041</td>\n",
       "      <td>...</td>\n",
       "      <td>0.002364</td>\n",
       "      <td>-0.034200</td>\n",
       "      <td>-0.017773</td>\n",
       "      <td>-0.013784</td>\n",
       "      <td>-0.012559</td>\n",
       "      <td>-0.006600</td>\n",
       "      <td>-0.005656</td>\n",
       "      <td>-0.002189</td>\n",
       "      <td>-0.001380</td>\n",
       "      <td>1.000000</td>\n",
       "    </tr>\n",
       "  </tbody>\n",
       "</table>\n",
       "<p>22 rows × 22 columns</p>\n",
       "</div>"
      ],
      "text/plain": [
       "                         Region_Code  Upper_Age  Lower_Age  \\\n",
       "Region_Code                 1.000000  -0.005649  -0.005928   \n",
       "Upper_Age                  -0.005649   1.000000   0.921392   \n",
       "Lower_Age                  -0.005928   0.921392   1.000000   \n",
       "Holding_Policy_Duration     0.014130   0.371808   0.335421   \n",
       "Holding_Policy_Type         0.009348   0.002579  -0.001842   \n",
       "Reco_Policy_Cat            -0.065120   0.025257   0.021163   \n",
       "Reco_Policy_Premium        -0.010797   0.792689   0.615739   \n",
       "Owned                      -0.009105   0.419129   0.369400   \n",
       "Rented                      0.009105  -0.419129  -0.369400   \n",
       "Individual                  0.004275  -0.227119   0.014998   \n",
       "Joint                      -0.004275   0.227119  -0.014998   \n",
       "No                          0.002567  -0.202947  -0.062634   \n",
       "Yes                        -0.002567   0.202947   0.062634   \n",
       "X1                         -0.016553  -0.014932  -0.012176   \n",
       "X2                          0.004497   0.018416   0.020164   \n",
       "X3                          0.001688  -0.031266  -0.033854   \n",
       "X4                          0.011805   0.012452   0.013067   \n",
       "X5                          0.008920   0.033659   0.031052   \n",
       "X6                          0.001703  -0.006446  -0.011230   \n",
       "X7                         -0.002992   0.022272   0.021363   \n",
       "X8                          0.013479   0.005810   0.003201   \n",
       "X9                         -0.001955   0.001003   0.000531   \n",
       "\n",
       "                         Holding_Policy_Duration  Holding_Policy_Type  \\\n",
       "Region_Code                             0.014130             0.009348   \n",
       "Upper_Age                               0.371808             0.002579   \n",
       "Lower_Age                               0.335421            -0.001842   \n",
       "Holding_Policy_Duration                 1.000000            -0.084607   \n",
       "Holding_Policy_Type                    -0.084607             1.000000   \n",
       "Reco_Policy_Cat                         0.035704             0.053760   \n",
       "Reco_Policy_Premium                     0.283997             0.012266   \n",
       "Owned                                   0.223303             0.055255   \n",
       "Rented                                 -0.223303            -0.055255   \n",
       "Individual                             -0.103109            -0.033907   \n",
       "Joint                                   0.103109             0.033907   \n",
       "No                                     -0.092115            -0.043596   \n",
       "Yes                                     0.092115             0.043596   \n",
       "X1                                     -0.015795            -0.020657   \n",
       "X2                                      0.013032             0.011136   \n",
       "X3                                     -0.014073            -0.042030   \n",
       "X4                                      0.016496             0.044241   \n",
       "X5                                      0.022318             0.042282   \n",
       "X6                                     -0.018066            -0.016678   \n",
       "X7                                      0.012354             0.018150   \n",
       "X8                                      0.001471            -0.003978   \n",
       "X9                                      0.004947             0.002833   \n",
       "\n",
       "                         Reco_Policy_Cat  Reco_Policy_Premium     Owned  \\\n",
       "Region_Code                    -0.065120            -0.010797 -0.009105   \n",
       "Upper_Age                       0.025257             0.792689  0.419129   \n",
       "Lower_Age                       0.021163             0.615739  0.369400   \n",
       "Holding_Policy_Duration         0.035704             0.283997  0.223303   \n",
       "Holding_Policy_Type             0.053760             0.012266  0.055255   \n",
       "Reco_Policy_Cat                 1.000000             0.060989  0.022055   \n",
       "Reco_Policy_Premium             0.060989             1.000000  0.350514   \n",
       "Owned                           0.022055             0.350514  1.000000   \n",
       "Rented                         -0.022055            -0.350514 -1.000000   \n",
       "Individual                     -0.020826            -0.596160 -0.196833   \n",
       "Joint                           0.020826             0.596160  0.196833   \n",
       "No                             -0.022676            -0.514727 -0.191045   \n",
       "Yes                             0.022676             0.514727  0.191045   \n",
       "X1                             -0.001639            -0.027360 -0.035248   \n",
       "X2                              0.007119             0.021991  0.031060   \n",
       "X3                             -0.014307            -0.037375 -0.059642   \n",
       "X4                              0.014678             0.025462  0.058694   \n",
       "X5                              0.011949             0.051663  0.053728   \n",
       "X6                             -0.023226            -0.012808 -0.029799   \n",
       "X7                              0.013131             0.034073  0.023804   \n",
       "X8                             -0.019330             0.001414  0.005202   \n",
       "X9                             -0.011834            -0.001613  0.001564   \n",
       "\n",
       "                           Rented  Individual    ...          Yes        X1  \\\n",
       "Region_Code              0.009105    0.004275    ...    -0.002567 -0.016553   \n",
       "Upper_Age               -0.419129   -0.227119    ...     0.202947 -0.014932   \n",
       "Lower_Age               -0.369400    0.014998    ...     0.062634 -0.012176   \n",
       "Holding_Policy_Duration -0.223303   -0.103109    ...     0.092115 -0.015795   \n",
       "Holding_Policy_Type     -0.055255   -0.033907    ...     0.043596 -0.020657   \n",
       "Reco_Policy_Cat         -0.022055   -0.020826    ...     0.022676 -0.001639   \n",
       "Reco_Policy_Premium     -0.350514   -0.596160    ...     0.514727 -0.027360   \n",
       "Owned                   -1.000000   -0.196833    ...     0.191045 -0.035248   \n",
       "Rented                   1.000000    0.196833    ...    -0.191045  0.035248   \n",
       "Individual               0.196833    1.000000    ...    -0.881560  0.033662   \n",
       "Joint                   -0.196833   -1.000000    ...     0.881560 -0.033662   \n",
       "No                       0.191045    0.881560    ...    -1.000000  0.038568   \n",
       "Yes                     -0.191045   -0.881560    ...     1.000000 -0.038568   \n",
       "X1                       0.035248    0.033662    ...    -0.038568  1.000000   \n",
       "X2                      -0.031060   -0.023326    ...     0.031529 -0.490299   \n",
       "X3                       0.059642    0.036672    ...    -0.048798 -0.380263   \n",
       "X4                      -0.058694   -0.033526    ...     0.041682 -0.346464   \n",
       "X5                      -0.053728   -0.047959    ...     0.057866 -0.182065   \n",
       "X6                       0.029799    0.005696    ...    -0.013124 -0.156034   \n",
       "X7                      -0.023804   -0.018246    ...     0.020111 -0.060402   \n",
       "X8                      -0.005202   -0.006415    ...     0.005528 -0.038059   \n",
       "X9                      -0.001564   -0.003041    ...     0.002364 -0.034200   \n",
       "\n",
       "                               X2        X3        X4        X5        X6  \\\n",
       "Region_Code              0.004497  0.001688  0.011805  0.008920  0.001703   \n",
       "Upper_Age                0.018416 -0.031266  0.012452  0.033659 -0.006446   \n",
       "Lower_Age                0.020164 -0.033854  0.013067  0.031052 -0.011230   \n",
       "Holding_Policy_Duration  0.013032 -0.014073  0.016496  0.022318 -0.018066   \n",
       "Holding_Policy_Type      0.011136 -0.042030  0.044241  0.042282 -0.016678   \n",
       "Reco_Policy_Cat          0.007119 -0.014307  0.014678  0.011949 -0.023226   \n",
       "Reco_Policy_Premium      0.021991 -0.037375  0.025462  0.051663 -0.012808   \n",
       "Owned                    0.031060 -0.059642  0.058694  0.053728 -0.029799   \n",
       "Rented                  -0.031060  0.059642 -0.058694 -0.053728  0.029799   \n",
       "Individual              -0.023326  0.036672 -0.033526 -0.047959  0.005696   \n",
       "Joint                    0.023326 -0.036672  0.033526  0.047959 -0.005696   \n",
       "No                      -0.031529  0.048798 -0.041682 -0.057866  0.013124   \n",
       "Yes                      0.031529 -0.048798  0.041682  0.057866 -0.013124   \n",
       "X1                      -0.490299 -0.380263 -0.346464 -0.182065 -0.156034   \n",
       "X2                       1.000000 -0.197613 -0.180049 -0.094615 -0.081087   \n",
       "X3                      -0.197613  1.000000 -0.139641 -0.073381 -0.062889   \n",
       "X4                      -0.180049 -0.139641  1.000000 -0.066858 -0.057299   \n",
       "X5                      -0.094615 -0.073381 -0.066858  1.000000 -0.030110   \n",
       "X6                      -0.081087 -0.062889 -0.057299 -0.030110  1.000000   \n",
       "X7                      -0.031389 -0.024345 -0.022181 -0.011656 -0.009989   \n",
       "X8                      -0.019779 -0.015340 -0.013976 -0.007344 -0.006294   \n",
       "X9                      -0.017773 -0.013784 -0.012559 -0.006600 -0.005656   \n",
       "\n",
       "                               X7        X8        X9  \n",
       "Region_Code             -0.002992  0.013479 -0.001955  \n",
       "Upper_Age                0.022272  0.005810  0.001003  \n",
       "Lower_Age                0.021363  0.003201  0.000531  \n",
       "Holding_Policy_Duration  0.012354  0.001471  0.004947  \n",
       "Holding_Policy_Type      0.018150 -0.003978  0.002833  \n",
       "Reco_Policy_Cat          0.013131 -0.019330 -0.011834  \n",
       "Reco_Policy_Premium      0.034073  0.001414 -0.001613  \n",
       "Owned                    0.023804  0.005202  0.001564  \n",
       "Rented                  -0.023804 -0.005202 -0.001564  \n",
       "Individual              -0.018246 -0.006415 -0.003041  \n",
       "Joint                    0.018246  0.006415  0.003041  \n",
       "No                      -0.020111 -0.005528 -0.002364  \n",
       "Yes                      0.020111  0.005528  0.002364  \n",
       "X1                      -0.060402 -0.038059 -0.034200  \n",
       "X2                      -0.031389 -0.019779 -0.017773  \n",
       "X3                      -0.024345 -0.015340 -0.013784  \n",
       "X4                      -0.022181 -0.013976 -0.012559  \n",
       "X5                      -0.011656 -0.007344 -0.006600  \n",
       "X6                      -0.009989 -0.006294 -0.005656  \n",
       "X7                       1.000000 -0.002437 -0.002189  \n",
       "X8                      -0.002437  1.000000 -0.001380  \n",
       "X9                      -0.002189 -0.001380  1.000000  \n",
       "\n",
       "[22 rows x 22 columns]"
      ]
     },
     "execution_count": 51,
     "metadata": {},
     "output_type": "execute_result"
    }
   ],
   "source": [
    "df_train.corr()"
   ]
  },
  {
   "cell_type": "code",
   "execution_count": 52,
   "metadata": {
    "ExecuteTime": {
     "end_time": "2021-02-28T15:31:17.326471Z",
     "start_time": "2021-02-28T15:31:15.913307Z"
    }
   },
   "outputs": [
    {
     "data": {
      "text/plain": [
       "<Figure size 1440x1440 with 0 Axes>"
      ]
     },
     "execution_count": 52,
     "metadata": {},
     "output_type": "execute_result"
    },
    {
     "data": {
      "text/plain": [
       "<matplotlib.axes._subplots.AxesSubplot at 0x21e0bef3eb8>"
      ]
     },
     "execution_count": 52,
     "metadata": {},
     "output_type": "execute_result"
    },
    {
     "data": {
      "image/png": "[encoded data removed]",
      "text/plain": [
       "<Figure size 1440x1440 with 2 Axes>"
      ]
     },
     "metadata": {
      "needs_background": "light"
     },
     "output_type": "display_data"
    }
   ],
   "source": [
    "corr=df.iloc[:,:-1].corr()\n",
    "top_features=corr.index\n",
    "plt.figure(figsize=(20,20))\n",
    "sns.heatmap(df[top_features].corr(),annot=True)"
   ]
  },
  {
   "cell_type": "markdown",
   "metadata": {},
   "source": [
    "#### Loading test file"
   ]
  },
  {
   "cell_type": "code",
   "execution_count": 53,
   "metadata": {
    "ExecuteTime": {
     "end_time": "2021-02-28T15:31:24.091323Z",
     "start_time": "2021-02-28T15:31:23.539457Z"
    }
   },
   "outputs": [
    {
     "data": {
      "text/html": [
       "<div>\n",
       "<style scoped>\n",
       "    .dataframe tbody tr th:only-of-type {\n",
       "        vertical-align: middle;\n",
       "    }\n",
       "\n",
       "    .dataframe tbody tr th {\n",
       "        vertical-align: top;\n",
       "    }\n",
       "\n",
       "    .dataframe thead th {\n",
       "        text-align: right;\n",
       "    }\n",
       "</style>\n",
       "<table border=\"1\" class=\"dataframe\">\n",
       "  <thead>\n",
       "    <tr style=\"text-align: right;\">\n",
       "      <th></th>\n",
       "      <th>ID</th>\n",
       "      <th>City_Code</th>\n",
       "      <th>Region_Code</th>\n",
       "      <th>Accomodation_Type</th>\n",
       "      <th>Reco_Insurance_Type</th>\n",
       "      <th>Upper_Age</th>\n",
       "      <th>Lower_Age</th>\n",
       "      <th>Is_Spouse</th>\n",
       "      <th>Health Indicator</th>\n",
       "      <th>Holding_Policy_Duration</th>\n",
       "      <th>Holding_Policy_Type</th>\n",
       "      <th>Reco_Policy_Cat</th>\n",
       "      <th>Reco_Policy_Premium</th>\n",
       "    </tr>\n",
       "  </thead>\n",
       "  <tbody>\n",
       "    <tr>\n",
       "      <th>0</th>\n",
       "      <td>50883</td>\n",
       "      <td>C1</td>\n",
       "      <td>156</td>\n",
       "      <td>Owned</td>\n",
       "      <td>Individual</td>\n",
       "      <td>30</td>\n",
       "      <td>30</td>\n",
       "      <td>No</td>\n",
       "      <td>NaN</td>\n",
       "      <td>6.0</td>\n",
       "      <td>3.0</td>\n",
       "      <td>5</td>\n",
       "      <td>11934.0</td>\n",
       "    </tr>\n",
       "    <tr>\n",
       "      <th>1</th>\n",
       "      <td>50884</td>\n",
       "      <td>C4</td>\n",
       "      <td>7</td>\n",
       "      <td>Owned</td>\n",
       "      <td>Joint</td>\n",
       "      <td>69</td>\n",
       "      <td>68</td>\n",
       "      <td>Yes</td>\n",
       "      <td>X1</td>\n",
       "      <td>3.0</td>\n",
       "      <td>3.0</td>\n",
       "      <td>18</td>\n",
       "      <td>32204.8</td>\n",
       "    </tr>\n",
       "    <tr>\n",
       "      <th>2</th>\n",
       "      <td>50885</td>\n",
       "      <td>C1</td>\n",
       "      <td>564</td>\n",
       "      <td>Rented</td>\n",
       "      <td>Individual</td>\n",
       "      <td>28</td>\n",
       "      <td>28</td>\n",
       "      <td>No</td>\n",
       "      <td>X3</td>\n",
       "      <td>2.0</td>\n",
       "      <td>4.0</td>\n",
       "      <td>17</td>\n",
       "      <td>9240.0</td>\n",
       "    </tr>\n",
       "    <tr>\n",
       "      <th>3</th>\n",
       "      <td>50886</td>\n",
       "      <td>C3</td>\n",
       "      <td>1177</td>\n",
       "      <td>Rented</td>\n",
       "      <td>Individual</td>\n",
       "      <td>23</td>\n",
       "      <td>23</td>\n",
       "      <td>No</td>\n",
       "      <td>X3</td>\n",
       "      <td>3.0</td>\n",
       "      <td>3.0</td>\n",
       "      <td>18</td>\n",
       "      <td>9086.0</td>\n",
       "    </tr>\n",
       "    <tr>\n",
       "      <th>4</th>\n",
       "      <td>50887</td>\n",
       "      <td>C1</td>\n",
       "      <td>951</td>\n",
       "      <td>Owned</td>\n",
       "      <td>Individual</td>\n",
       "      <td>75</td>\n",
       "      <td>75</td>\n",
       "      <td>No</td>\n",
       "      <td>X3</td>\n",
       "      <td>NaN</td>\n",
       "      <td>NaN</td>\n",
       "      <td>5</td>\n",
       "      <td>22534.0</td>\n",
       "    </tr>\n",
       "  </tbody>\n",
       "</table>\n",
       "</div>"
      ],
      "text/plain": [
       "      ID City_Code  Region_Code Accomodation_Type Reco_Insurance_Type  \\\n",
       "0  50883        C1          156             Owned          Individual   \n",
       "1  50884        C4            7             Owned               Joint   \n",
       "2  50885        C1          564            Rented          Individual   \n",
       "3  50886        C3         1177            Rented          Individual   \n",
       "4  50887        C1          951             Owned          Individual   \n",
       "\n",
       "   Upper_Age  Lower_Age Is_Spouse Health Indicator Holding_Policy_Duration  \\\n",
       "0         30         30        No              NaN                     6.0   \n",
       "1         69         68       Yes               X1                     3.0   \n",
       "2         28         28        No               X3                     2.0   \n",
       "3         23         23        No               X3                     3.0   \n",
       "4         75         75        No               X3                     NaN   \n",
       "\n",
       "   Holding_Policy_Type  Reco_Policy_Cat  Reco_Policy_Premium  \n",
       "0                  3.0                5              11934.0  \n",
       "1                  3.0               18              32204.8  \n",
       "2                  4.0               17               9240.0  \n",
       "3                  3.0               18               9086.0  \n",
       "4                  NaN                5              22534.0  "
      ]
     },
     "execution_count": 53,
     "metadata": {},
     "output_type": "execute_result"
    }
   ],
   "source": [
    "test_df=pd.read_csv('test_YCcRUnU.csv')\n",
    "test_df.head()"
   ]
  },
  {
   "cell_type": "code",
   "execution_count": 54,
   "metadata": {
    "ExecuteTime": {
     "end_time": "2021-02-28T15:31:26.070062Z",
     "start_time": "2021-02-28T15:31:25.880525Z"
    }
   },
   "outputs": [
    {
     "data": {
      "text/plain": [
       "(21805, 13)"
      ]
     },
     "execution_count": 54,
     "metadata": {},
     "output_type": "execute_result"
    }
   ],
   "source": [
    "test_df.shape"
   ]
  },
  {
   "cell_type": "code",
   "execution_count": 55,
   "metadata": {
    "ExecuteTime": {
     "end_time": "2021-02-28T15:31:27.892625Z",
     "start_time": "2021-02-28T15:31:27.692551Z"
    }
   },
   "outputs": [
    {
     "name": "stdout",
     "output_type": "stream",
     "text": [
      "<class 'pandas.core.frame.DataFrame'>\n",
      "RangeIndex: 21805 entries, 0 to 21804\n",
      "Data columns (total 13 columns):\n",
      "ID                         21805 non-null int64\n",
      "City_Code                  21805 non-null object\n",
      "Region_Code                21805 non-null int64\n",
      "Accomodation_Type          21805 non-null object\n",
      "Reco_Insurance_Type        21805 non-null object\n",
      "Upper_Age                  21805 non-null int64\n",
      "Lower_Age                  21805 non-null int64\n",
      "Is_Spouse                  21805 non-null object\n",
      "Health Indicator           16778 non-null object\n",
      "Holding_Policy_Duration    13202 non-null object\n",
      "Holding_Policy_Type        13202 non-null float64\n",
      "Reco_Policy_Cat            21805 non-null int64\n",
      "Reco_Policy_Premium        21805 non-null float64\n",
      "dtypes: float64(2), int64(5), object(6)\n",
      "memory usage: 2.2+ MB\n"
     ]
    }
   ],
   "source": [
    "test_df.info()"
   ]
  },
  {
   "cell_type": "code",
   "execution_count": 56,
   "metadata": {
    "ExecuteTime": {
     "end_time": "2021-02-28T15:31:33.859914Z",
     "start_time": "2021-02-28T15:31:33.668273Z"
    }
   },
   "outputs": [
    {
     "data": {
      "text/plain": [
       "ID                            0\n",
       "City_Code                     0\n",
       "Region_Code                   0\n",
       "Accomodation_Type             0\n",
       "Reco_Insurance_Type           0\n",
       "Upper_Age                     0\n",
       "Lower_Age                     0\n",
       "Is_Spouse                     0\n",
       "Health Indicator           5027\n",
       "Holding_Policy_Duration    8603\n",
       "Holding_Policy_Type        8603\n",
       "Reco_Policy_Cat               0\n",
       "Reco_Policy_Premium           0\n",
       "dtype: int64"
      ]
     },
     "execution_count": 56,
     "metadata": {},
     "output_type": "execute_result"
    }
   ],
   "source": [
    "test_df.isnull().sum()"
   ]
  },
  {
   "cell_type": "code",
   "execution_count": 57,
   "metadata": {
    "ExecuteTime": {
     "end_time": "2021-02-28T15:31:36.347012Z",
     "start_time": "2021-02-28T15:31:36.140935Z"
    }
   },
   "outputs": [
    {
     "data": {
      "text/plain": [
       "0.23054345333639073"
      ]
     },
     "execution_count": 57,
     "metadata": {},
     "output_type": "execute_result"
    },
    {
     "data": {
      "text/plain": [
       "0.39454253611556983"
      ]
     },
     "execution_count": 57,
     "metadata": {},
     "output_type": "execute_result"
    },
    {
     "data": {
      "text/plain": [
       "0.39454253611556983"
      ]
     },
     "execution_count": 57,
     "metadata": {},
     "output_type": "execute_result"
    }
   ],
   "source": [
    "test_df['Health Indicator'].isnull().mean()\n",
    "test_df['Holding_Policy_Duration'].isnull().mean()\n",
    "test_df['Holding_Policy_Type'].isnull().mean()"
   ]
  },
  {
   "cell_type": "markdown",
   "metadata": {},
   "source": [
    "#### Performing different data preprocessing like removing nan values"
   ]
  },
  {
   "cell_type": "code",
   "execution_count": 58,
   "metadata": {
    "ExecuteTime": {
     "end_time": "2021-02-28T15:31:41.834242Z",
     "start_time": "2021-02-28T15:31:41.653590Z"
    }
   },
   "outputs": [],
   "source": [
    "def impute_nan_test(df,variable):\n",
    "    most_frequent_category=test_df[variable].mode()[0]\n",
    "    test_df[variable].fillna(most_frequent_category,inplace=True)"
   ]
  },
  {
   "cell_type": "code",
   "execution_count": 59,
   "metadata": {
    "ExecuteTime": {
     "end_time": "2021-02-28T15:31:42.777752Z",
     "start_time": "2021-02-28T15:31:42.577990Z"
    }
   },
   "outputs": [],
   "source": [
    "for feature in ['Health Indicator','Holding_Policy_Duration','Holding_Policy_Type']:\n",
    "    impute_nan_test(test_df,feature)"
   ]
  },
  {
   "cell_type": "code",
   "execution_count": 60,
   "metadata": {
    "ExecuteTime": {
     "end_time": "2021-02-28T15:31:43.606830Z",
     "start_time": "2021-02-28T15:31:43.386450Z"
    }
   },
   "outputs": [
    {
     "data": {
      "text/plain": [
       "ID                         0\n",
       "City_Code                  0\n",
       "Region_Code                0\n",
       "Accomodation_Type          0\n",
       "Reco_Insurance_Type        0\n",
       "Upper_Age                  0\n",
       "Lower_Age                  0\n",
       "Is_Spouse                  0\n",
       "Health Indicator           0\n",
       "Holding_Policy_Duration    0\n",
       "Holding_Policy_Type        0\n",
       "Reco_Policy_Cat            0\n",
       "Reco_Policy_Premium        0\n",
       "dtype: int64"
      ]
     },
     "execution_count": 60,
     "metadata": {},
     "output_type": "execute_result"
    }
   ],
   "source": [
    "test_df.isnull().sum()"
   ]
  },
  {
   "cell_type": "code",
   "execution_count": 61,
   "metadata": {
    "ExecuteTime": {
     "end_time": "2021-02-28T15:31:51.263938Z",
     "start_time": "2021-02-28T15:31:51.054056Z"
    }
   },
   "outputs": [
    {
     "data": {
      "text/html": [
       "<div>\n",
       "<style scoped>\n",
       "    .dataframe tbody tr th:only-of-type {\n",
       "        vertical-align: middle;\n",
       "    }\n",
       "\n",
       "    .dataframe tbody tr th {\n",
       "        vertical-align: top;\n",
       "    }\n",
       "\n",
       "    .dataframe thead th {\n",
       "        text-align: right;\n",
       "    }\n",
       "</style>\n",
       "<table border=\"1\" class=\"dataframe\">\n",
       "  <thead>\n",
       "    <tr style=\"text-align: right;\">\n",
       "      <th></th>\n",
       "      <th>Owned</th>\n",
       "      <th>Rented</th>\n",
       "    </tr>\n",
       "  </thead>\n",
       "  <tbody>\n",
       "    <tr>\n",
       "      <th>0</th>\n",
       "      <td>1</td>\n",
       "      <td>0</td>\n",
       "    </tr>\n",
       "    <tr>\n",
       "      <th>1</th>\n",
       "      <td>1</td>\n",
       "      <td>0</td>\n",
       "    </tr>\n",
       "    <tr>\n",
       "      <th>2</th>\n",
       "      <td>0</td>\n",
       "      <td>1</td>\n",
       "    </tr>\n",
       "    <tr>\n",
       "      <th>3</th>\n",
       "      <td>0</td>\n",
       "      <td>1</td>\n",
       "    </tr>\n",
       "    <tr>\n",
       "      <th>4</th>\n",
       "      <td>1</td>\n",
       "      <td>0</td>\n",
       "    </tr>\n",
       "  </tbody>\n",
       "</table>\n",
       "</div>"
      ],
      "text/plain": [
       "   Owned  Rented\n",
       "0      1       0\n",
       "1      1       0\n",
       "2      0       1\n",
       "3      0       1\n",
       "4      1       0"
      ]
     },
     "execution_count": 61,
     "metadata": {},
     "output_type": "execute_result"
    }
   ],
   "source": [
    "Accomodation_test = test_df['Accomodation_Type']\n",
    "Accomodation_test = pd.get_dummies(data=Accomodation_test)\n",
    "Accomodation_test.head()"
   ]
  },
  {
   "cell_type": "code",
   "execution_count": 62,
   "metadata": {
    "ExecuteTime": {
     "end_time": "2021-02-28T15:31:52.025946Z",
     "start_time": "2021-02-28T15:31:51.846255Z"
    }
   },
   "outputs": [
    {
     "data": {
      "text/html": [
       "<div>\n",
       "<style scoped>\n",
       "    .dataframe tbody tr th:only-of-type {\n",
       "        vertical-align: middle;\n",
       "    }\n",
       "\n",
       "    .dataframe tbody tr th {\n",
       "        vertical-align: top;\n",
       "    }\n",
       "\n",
       "    .dataframe thead th {\n",
       "        text-align: right;\n",
       "    }\n",
       "</style>\n",
       "<table border=\"1\" class=\"dataframe\">\n",
       "  <thead>\n",
       "    <tr style=\"text-align: right;\">\n",
       "      <th></th>\n",
       "      <th>Individual</th>\n",
       "      <th>Joint</th>\n",
       "    </tr>\n",
       "  </thead>\n",
       "  <tbody>\n",
       "    <tr>\n",
       "      <th>0</th>\n",
       "      <td>1</td>\n",
       "      <td>0</td>\n",
       "    </tr>\n",
       "    <tr>\n",
       "      <th>1</th>\n",
       "      <td>0</td>\n",
       "      <td>1</td>\n",
       "    </tr>\n",
       "    <tr>\n",
       "      <th>2</th>\n",
       "      <td>1</td>\n",
       "      <td>0</td>\n",
       "    </tr>\n",
       "    <tr>\n",
       "      <th>3</th>\n",
       "      <td>1</td>\n",
       "      <td>0</td>\n",
       "    </tr>\n",
       "    <tr>\n",
       "      <th>4</th>\n",
       "      <td>1</td>\n",
       "      <td>0</td>\n",
       "    </tr>\n",
       "  </tbody>\n",
       "</table>\n",
       "</div>"
      ],
      "text/plain": [
       "   Individual  Joint\n",
       "0           1      0\n",
       "1           0      1\n",
       "2           1      0\n",
       "3           1      0\n",
       "4           1      0"
      ]
     },
     "execution_count": 62,
     "metadata": {},
     "output_type": "execute_result"
    }
   ],
   "source": [
    "Reco_Insurance_Type_test=test_df['Reco_Insurance_Type']\n",
    "Reco_Insurance_Type_test = pd.get_dummies(data=Reco_Insurance_Type_test)\n",
    "Reco_Insurance_Type_test.head()"
   ]
  },
  {
   "cell_type": "code",
   "execution_count": 63,
   "metadata": {
    "ExecuteTime": {
     "end_time": "2021-02-28T15:31:53.038975Z",
     "start_time": "2021-02-28T15:31:52.841348Z"
    }
   },
   "outputs": [
    {
     "data": {
      "text/html": [
       "<div>\n",
       "<style scoped>\n",
       "    .dataframe tbody tr th:only-of-type {\n",
       "        vertical-align: middle;\n",
       "    }\n",
       "\n",
       "    .dataframe tbody tr th {\n",
       "        vertical-align: top;\n",
       "    }\n",
       "\n",
       "    .dataframe thead th {\n",
       "        text-align: right;\n",
       "    }\n",
       "</style>\n",
       "<table border=\"1\" class=\"dataframe\">\n",
       "  <thead>\n",
       "    <tr style=\"text-align: right;\">\n",
       "      <th></th>\n",
       "      <th>No</th>\n",
       "      <th>Yes</th>\n",
       "    </tr>\n",
       "  </thead>\n",
       "  <tbody>\n",
       "    <tr>\n",
       "      <th>0</th>\n",
       "      <td>1</td>\n",
       "      <td>0</td>\n",
       "    </tr>\n",
       "    <tr>\n",
       "      <th>1</th>\n",
       "      <td>0</td>\n",
       "      <td>1</td>\n",
       "    </tr>\n",
       "    <tr>\n",
       "      <th>2</th>\n",
       "      <td>1</td>\n",
       "      <td>0</td>\n",
       "    </tr>\n",
       "    <tr>\n",
       "      <th>3</th>\n",
       "      <td>1</td>\n",
       "      <td>0</td>\n",
       "    </tr>\n",
       "    <tr>\n",
       "      <th>4</th>\n",
       "      <td>1</td>\n",
       "      <td>0</td>\n",
       "    </tr>\n",
       "  </tbody>\n",
       "</table>\n",
       "</div>"
      ],
      "text/plain": [
       "   No  Yes\n",
       "0   1    0\n",
       "1   0    1\n",
       "2   1    0\n",
       "3   1    0\n",
       "4   1    0"
      ]
     },
     "execution_count": 63,
     "metadata": {},
     "output_type": "execute_result"
    }
   ],
   "source": [
    "Is_Spouse_test = test_df['Is_Spouse']\n",
    "Is_Spouse_test = pd.get_dummies(data=Is_Spouse_test)\n",
    "Is_Spouse_test.head()"
   ]
  },
  {
   "cell_type": "code",
   "execution_count": 64,
   "metadata": {
    "ExecuteTime": {
     "end_time": "2021-02-28T15:31:54.497843Z",
     "start_time": "2021-02-28T15:31:54.317756Z"
    }
   },
   "outputs": [
    {
     "data": {
      "text/html": [
       "<div>\n",
       "<style scoped>\n",
       "    .dataframe tbody tr th:only-of-type {\n",
       "        vertical-align: middle;\n",
       "    }\n",
       "\n",
       "    .dataframe tbody tr th {\n",
       "        vertical-align: top;\n",
       "    }\n",
       "\n",
       "    .dataframe thead th {\n",
       "        text-align: right;\n",
       "    }\n",
       "</style>\n",
       "<table border=\"1\" class=\"dataframe\">\n",
       "  <thead>\n",
       "    <tr style=\"text-align: right;\">\n",
       "      <th></th>\n",
       "      <th>X1</th>\n",
       "      <th>X2</th>\n",
       "      <th>X3</th>\n",
       "      <th>X4</th>\n",
       "      <th>X5</th>\n",
       "      <th>X6</th>\n",
       "      <th>X7</th>\n",
       "      <th>X8</th>\n",
       "      <th>X9</th>\n",
       "    </tr>\n",
       "  </thead>\n",
       "  <tbody>\n",
       "    <tr>\n",
       "      <th>0</th>\n",
       "      <td>1</td>\n",
       "      <td>0</td>\n",
       "      <td>0</td>\n",
       "      <td>0</td>\n",
       "      <td>0</td>\n",
       "      <td>0</td>\n",
       "      <td>0</td>\n",
       "      <td>0</td>\n",
       "      <td>0</td>\n",
       "    </tr>\n",
       "    <tr>\n",
       "      <th>1</th>\n",
       "      <td>1</td>\n",
       "      <td>0</td>\n",
       "      <td>0</td>\n",
       "      <td>0</td>\n",
       "      <td>0</td>\n",
       "      <td>0</td>\n",
       "      <td>0</td>\n",
       "      <td>0</td>\n",
       "      <td>0</td>\n",
       "    </tr>\n",
       "    <tr>\n",
       "      <th>2</th>\n",
       "      <td>0</td>\n",
       "      <td>0</td>\n",
       "      <td>1</td>\n",
       "      <td>0</td>\n",
       "      <td>0</td>\n",
       "      <td>0</td>\n",
       "      <td>0</td>\n",
       "      <td>0</td>\n",
       "      <td>0</td>\n",
       "    </tr>\n",
       "    <tr>\n",
       "      <th>3</th>\n",
       "      <td>0</td>\n",
       "      <td>0</td>\n",
       "      <td>1</td>\n",
       "      <td>0</td>\n",
       "      <td>0</td>\n",
       "      <td>0</td>\n",
       "      <td>0</td>\n",
       "      <td>0</td>\n",
       "      <td>0</td>\n",
       "    </tr>\n",
       "    <tr>\n",
       "      <th>4</th>\n",
       "      <td>0</td>\n",
       "      <td>0</td>\n",
       "      <td>1</td>\n",
       "      <td>0</td>\n",
       "      <td>0</td>\n",
       "      <td>0</td>\n",
       "      <td>0</td>\n",
       "      <td>0</td>\n",
       "      <td>0</td>\n",
       "    </tr>\n",
       "  </tbody>\n",
       "</table>\n",
       "</div>"
      ],
      "text/plain": [
       "   X1  X2  X3  X4  X5  X6  X7  X8  X9\n",
       "0   1   0   0   0   0   0   0   0   0\n",
       "1   1   0   0   0   0   0   0   0   0\n",
       "2   0   0   1   0   0   0   0   0   0\n",
       "3   0   0   1   0   0   0   0   0   0\n",
       "4   0   0   1   0   0   0   0   0   0"
      ]
     },
     "execution_count": 64,
     "metadata": {},
     "output_type": "execute_result"
    }
   ],
   "source": [
    "Health_Indicator_test=test_df['Health Indicator']\n",
    "Health_Indicator_test=pd.get_dummies(data=Health_Indicator_test)\n",
    "Health_Indicator_test.head()"
   ]
  },
  {
   "cell_type": "code",
   "execution_count": 65,
   "metadata": {
    "ExecuteTime": {
     "end_time": "2021-02-28T15:32:01.557378Z",
     "start_time": "2021-02-28T15:32:01.334392Z"
    }
   },
   "outputs": [],
   "source": [
    "test_df['Holding_Policy_Duration'] = test_df['Holding_Policy_Duration'].str.replace(\"+\",\"\")"
   ]
  },
  {
   "cell_type": "code",
   "execution_count": 66,
   "metadata": {
    "ExecuteTime": {
     "end_time": "2021-02-28T15:32:02.487887Z",
     "start_time": "2021-02-28T15:32:02.298265Z"
    }
   },
   "outputs": [],
   "source": [
    "test_df['Holding_Policy_Duration']=test_df['Holding_Policy_Duration'].astype(float)\n",
    "test_df['Holding_Policy_Type']=test_df['Holding_Policy_Type'].astype(float)"
   ]
  },
  {
   "cell_type": "code",
   "execution_count": 102,
   "metadata": {
    "ExecuteTime": {
     "end_time": "2021-02-28T16:48:46.371515Z",
     "start_time": "2021-02-28T16:48:45.923557Z"
    }
   },
   "outputs": [],
   "source": [
    "test_df.drop(columns=['City_Code','Accomodation_Type','Reco_Insurance_Type','Is_Spouse','Health Indicator'],inplace=True)"
   ]
  },
  {
   "cell_type": "code",
   "execution_count": 103,
   "metadata": {
    "ExecuteTime": {
     "end_time": "2021-02-28T16:48:48.853700Z",
     "start_time": "2021-02-28T16:48:48.105947Z"
    }
   },
   "outputs": [],
   "source": [
    "df_test=pd.concat([test_df,Accomodation,Reco_Insurance_Type,Is_Spouse,Health_Indicator],axis=1)"
   ]
  },
  {
   "cell_type": "markdown",
   "metadata": {
    "ExecuteTime": {
     "end_time": "2021-02-28T16:19:28.975980Z",
     "start_time": "2021-02-28T16:19:28.742155Z"
    }
   },
   "source": [
    "#### Splitting the dataset into trainset and testset"
   ]
  },
  {
   "cell_type": "code",
   "execution_count": 67,
   "metadata": {
    "ExecuteTime": {
     "end_time": "2021-02-28T15:33:22.398546Z",
     "start_time": "2021-02-28T15:33:22.192347Z"
    }
   },
   "outputs": [],
   "source": [
    "from sklearn.model_selection import train_test_split\n",
    "X_train, X_test, y_train, y_test = train_test_split(X, y, test_size = 0.3, random_state = 42)"
   ]
  },
  {
   "cell_type": "markdown",
   "metadata": {},
   "source": [
    "### Model creation and training of model"
   ]
  },
  {
   "cell_type": "code",
   "execution_count": 68,
   "metadata": {
    "ExecuteTime": {
     "end_time": "2021-02-28T15:33:51.611888Z",
     "start_time": "2021-02-28T15:33:50.706609Z"
    }
   },
   "outputs": [
    {
     "name": "stderr",
     "output_type": "stream",
     "text": [
      "C:\\Users\\shakil uz zaman\\.conda\\envs\\py35\\lib\\site-packages\\sklearn\\ensemble\\forest.py:248: FutureWarning:\n",
      "\n",
      "The default value of n_estimators will change from 10 in version 0.20 to 100 in 0.22.\n",
      "\n"
     ]
    },
    {
     "data": {
      "text/plain": [
       "RandomForestClassifier(bootstrap=True, class_weight=None, criterion='gini',\n",
       "            max_depth=None, max_features='auto', max_leaf_nodes=None,\n",
       "            min_impurity_decrease=0.0, min_impurity_split=None,\n",
       "            min_samples_leaf=1, min_samples_split=2,\n",
       "            min_weight_fraction_leaf=0.0, n_estimators=10, n_jobs=None,\n",
       "            oob_score=False, random_state=None, verbose=0,\n",
       "            warm_start=False)"
      ]
     },
     "execution_count": 68,
     "metadata": {},
     "output_type": "execute_result"
    }
   ],
   "source": [
    "from sklearn.ensemble import RandomForestClassifier\n",
    "cl_rf = RandomForestClassifier()\n",
    "cl_rf.fit(X_train, y_train)"
   ]
  },
  {
   "cell_type": "code",
   "execution_count": 69,
   "metadata": {
    "ExecuteTime": {
     "end_time": "2021-02-28T15:33:56.820322Z",
     "start_time": "2021-02-28T15:33:56.485676Z"
    }
   },
   "outputs": [],
   "source": [
    "y_pred = cl_rf.predict(X_test)"
   ]
  },
  {
   "cell_type": "code",
   "execution_count": 70,
   "metadata": {
    "ExecuteTime": {
     "end_time": "2021-02-28T15:33:57.827829Z",
     "start_time": "2021-02-28T15:33:57.648073Z"
    }
   },
   "outputs": [
    {
     "data": {
      "text/plain": [
       "0.7380281690140845"
      ]
     },
     "execution_count": 70,
     "metadata": {},
     "output_type": "execute_result"
    }
   ],
   "source": [
    "from sklearn.metrics import accuracy_score\n",
    "accuracy_score(y_test,y_pred)"
   ]
  },
  {
   "cell_type": "code",
   "execution_count": 71,
   "metadata": {
    "ExecuteTime": {
     "end_time": "2021-02-28T15:34:05.893494Z",
     "start_time": "2021-02-28T15:34:05.681615Z"
    }
   },
   "outputs": [
    {
     "name": "stdout",
     "output_type": "stream",
     "text": [
      "              precision    recall  f1-score   support\n",
      "\n",
      "           0       0.76      0.95      0.85     11560\n",
      "           1       0.32      0.07      0.11      3705\n",
      "\n",
      "   micro avg       0.74      0.74      0.74     15265\n",
      "   macro avg       0.54      0.51      0.48     15265\n",
      "weighted avg       0.65      0.74      0.67     15265\n",
      "\n"
     ]
    }
   ],
   "source": [
    "from sklearn.metrics import classification_report\n",
    "print(classification_report(y_test,y_pred))"
   ]
  },
  {
   "cell_type": "markdown",
   "metadata": {},
   "source": [
    "Hyperparameter Tuning\n",
    "\n",
    "Choose following method for hyperparameter tuning\n",
    "RandomizedSearchCV --> Fast\n",
    "\n",
    "Assign hyperparameters in form of dictionery\n",
    "\n",
    "Fit the model\n",
    "\n",
    "Check best paramters and best score"
   ]
  },
  {
   "cell_type": "code",
   "execution_count": 76,
   "metadata": {
    "ExecuteTime": {
     "end_time": "2021-02-28T15:35:56.337336Z",
     "start_time": "2021-02-28T15:35:56.161440Z"
    }
   },
   "outputs": [],
   "source": [
    "from sklearn.model_selection import RandomizedSearchCV"
   ]
  },
  {
   "cell_type": "code",
   "execution_count": 83,
   "metadata": {
    "ExecuteTime": {
     "end_time": "2021-02-28T15:49:13.064747Z",
     "start_time": "2021-02-28T15:49:12.853919Z"
    }
   },
   "outputs": [],
   "source": [
    "# Number of trees in random forest\n",
    "n_estimators = [int(x) for x in np.linspace(start = 100, stop = 1200, num = 12)]\n",
    "# Number of features to consider at every split\n",
    "max_features = ['auto', 'sqrt']\n",
    "# Maximum number of levels in tree\n",
    "max_depth = [int(x) for x in np.linspace(5, 30, num = 6)]\n",
    "# Minimum number of samples required to split a node\n",
    "min_samples_split = [2, 5, 10, 15, 100]\n",
    "# Minimum number of samples required at each leaf node\n",
    "min_samples_leaf = [1, 2, 5, 10]"
   ]
  },
  {
   "cell_type": "code",
   "execution_count": 84,
   "metadata": {
    "ExecuteTime": {
     "end_time": "2021-02-28T15:49:14.622830Z",
     "start_time": "2021-02-28T15:49:14.429919Z"
    }
   },
   "outputs": [],
   "source": [
    "random_grid = {'n_estimators': n_estimators,\n",
    "               'max_features': max_features,\n",
    "               'max_depth': max_depth,\n",
    "               'min_samples_split': min_samples_split,\n",
    "               'min_samples_leaf': min_samples_leaf}"
   ]
  },
  {
   "cell_type": "code",
   "execution_count": 85,
   "metadata": {
    "ExecuteTime": {
     "end_time": "2021-02-28T15:49:21.003956Z",
     "start_time": "2021-02-28T15:49:20.807502Z"
    }
   },
   "outputs": [],
   "source": [
    "rf_random = RandomizedSearchCV(estimator = cl_rf, param_distributions = random_grid, n_iter = 10, cv = 5, verbose=2, random_state=42, n_jobs = -1)"
   ]
  },
  {
   "cell_type": "code",
   "execution_count": 86,
   "metadata": {
    "ExecuteTime": {
     "end_time": "2021-02-28T16:05:17.452336Z",
     "start_time": "2021-02-28T15:49:22.712049Z"
    }
   },
   "outputs": [
    {
     "name": "stdout",
     "output_type": "stream",
     "text": [
      "Fitting 5 folds for each of 10 candidates, totalling 50 fits\n"
     ]
    },
    {
     "name": "stderr",
     "output_type": "stream",
     "text": [
      "[Parallel(n_jobs=-1)]: Using backend LokyBackend with 4 concurrent workers.\n",
      "[Parallel(n_jobs=-1)]: Done  33 tasks      | elapsed: 12.1min\n",
      "[Parallel(n_jobs=-1)]: Done  50 out of  50 | elapsed: 14.8min finished\n"
     ]
    },
    {
     "data": {
      "text/plain": [
       "RandomizedSearchCV(cv=5, error_score='raise-deprecating',\n",
       "          estimator=RandomForestClassifier(bootstrap=True, class_weight=None, criterion='gini',\n",
       "            max_depth=None, max_features='auto', max_leaf_nodes=None,\n",
       "            min_impurity_decrease=0.0, min_impurity_split=None,\n",
       "            min_samples_leaf=1, min_samples_split=2,\n",
       "            min_weight_fraction_leaf=0.0, n_estimators=10, n_jobs=None,\n",
       "            oob_score=False, random_state=None, verbose=0,\n",
       "            warm_start=False),\n",
       "          fit_params=None, iid='warn', n_iter=10, n_jobs=-1,\n",
       "          param_distributions={'max_features': ['auto', 'sqrt'], 'min_samples_leaf': [1, 2, 5, 10], 'n_estimators': [100, 200, 300, 400, 500, 600, 700, 800, 900, 1000, 1100, 1200], 'max_depth': [5, 10, 15, 20, 25, 30], 'min_samples_split': [2, 5, 10, 15, 100]},\n",
       "          pre_dispatch='2*n_jobs', random_state=42, refit=True,\n",
       "          return_train_score='warn', scoring=None, verbose=2)"
      ]
     },
     "execution_count": 86,
     "metadata": {},
     "output_type": "execute_result"
    }
   ],
   "source": [
    "rf_random.fit(X_train,y_train)"
   ]
  },
  {
   "cell_type": "code",
   "execution_count": 92,
   "metadata": {
    "ExecuteTime": {
     "end_time": "2021-02-28T16:25:41.830699Z",
     "start_time": "2021-02-28T16:25:41.602882Z"
    }
   },
   "outputs": [
    {
     "data": {
      "text/plain": [
       "{'max_depth': 20,\n",
       " 'max_features': 'auto',\n",
       " 'min_samples_leaf': 1,\n",
       " 'min_samples_split': 15,\n",
       " 'n_estimators': 700}"
      ]
     },
     "execution_count": 92,
     "metadata": {},
     "output_type": "execute_result"
    }
   ],
   "source": [
    "rf_random.best_params_"
   ]
  },
  {
   "cell_type": "code",
   "execution_count": 93,
   "metadata": {
    "ExecuteTime": {
     "end_time": "2021-02-28T16:25:46.927517Z",
     "start_time": "2021-02-28T16:25:43.075185Z"
    }
   },
   "outputs": [],
   "source": [
    "y_pred_hyper=rf_random.predict(X_test)"
   ]
  },
  {
   "cell_type": "code",
   "execution_count": 94,
   "metadata": {
    "ExecuteTime": {
     "end_time": "2021-02-28T16:25:49.095243Z",
     "start_time": "2021-02-28T16:25:48.855235Z"
    }
   },
   "outputs": [
    {
     "data": {
      "text/plain": [
       "0.7570913855224369"
      ]
     },
     "execution_count": 94,
     "metadata": {},
     "output_type": "execute_result"
    }
   ],
   "source": [
    "from sklearn.metrics import accuracy_score\n",
    "accuracy_score(y_test,y_pred_hyper)"
   ]
  },
  {
   "cell_type": "code",
   "execution_count": 95,
   "metadata": {
    "ExecuteTime": {
     "end_time": "2021-02-28T16:25:50.669053Z",
     "start_time": "2021-02-28T16:25:50.259417Z"
    }
   },
   "outputs": [
    {
     "name": "stdout",
     "output_type": "stream",
     "text": [
      "              precision    recall  f1-score   support\n",
      "\n",
      "           0       0.76      0.95      0.85     11560\n",
      "           1       0.32      0.07      0.11      3705\n",
      "\n",
      "   micro avg       0.74      0.74      0.74     15265\n",
      "   macro avg       0.54      0.51      0.48     15265\n",
      "weighted avg       0.65      0.74      0.67     15265\n",
      "\n"
     ]
    }
   ],
   "source": [
    "from sklearn.metrics import classification_report\n",
    "print(classification_report(y_test,y_pred))"
   ]
  },
  {
   "cell_type": "code",
   "execution_count": 96,
   "metadata": {
    "ExecuteTime": {
     "end_time": "2021-02-28T16:26:12.245825Z",
     "start_time": "2021-02-28T16:26:11.880413Z"
    }
   },
   "outputs": [],
   "source": [
    "from sklearn.metrics import roc_auc_score"
   ]
  },
  {
   "cell_type": "code",
   "execution_count": 97,
   "metadata": {
    "ExecuteTime": {
     "end_time": "2021-02-28T16:26:19.580457Z",
     "start_time": "2021-02-28T16:26:16.106225Z"
    }
   },
   "outputs": [],
   "source": [
    "y_pred_roc=rf_random.predict_proba(X_test)[:,1]"
   ]
  },
  {
   "cell_type": "code",
   "execution_count": 98,
   "metadata": {
    "ExecuteTime": {
     "end_time": "2021-02-28T16:26:42.773544Z",
     "start_time": "2021-02-28T16:26:42.482802Z"
    }
   },
   "outputs": [
    {
     "name": "stdout",
     "output_type": "stream",
     "text": [
      "0.617090950693209\n"
     ]
    }
   ],
   "source": [
    "print(roc_auc_score(y_test,y_pred_roc))"
   ]
  },
  {
   "cell_type": "code",
   "execution_count": 72,
   "metadata": {
    "ExecuteTime": {
     "end_time": "2021-02-28T15:34:36.159487Z",
     "start_time": "2021-02-28T15:34:35.967863Z"
    }
   },
   "outputs": [],
   "source": [
    "params = {\n",
    "        'min_child_weight': [1, 5, 10],\n",
    "        'gamma': [0.5, 1, 1.5, 2, 5],\n",
    "        'subsample': [0.6, 0.8, 1.0],\n",
    "        'colsample_bytree': [0.6, 0.8, 1.0],\n",
    "        'max_depth': [3, 4, 5]\n",
    "        }"
   ]
  },
  {
   "cell_type": "code",
   "execution_count": 86,
   "metadata": {
    "ExecuteTime": {
     "end_time": "2021-02-28T14:07:11.314577Z",
     "start_time": "2021-02-28T14:04:07.624517Z"
    }
   },
   "outputs": [
    {
     "name": "stdout",
     "output_type": "stream",
     "text": [
      "Collecting xgboost\n",
      "  Downloading xgboost-1.1.1-py3-none-win_amd64.whl (54.4 MB)\n",
      "Requirement already satisfied: scipy in c:\\users\\shakil uz zaman\\.conda\\envs\\py35\\lib\\site-packages (from xgboost) (1.1.0)\n",
      "Requirement already satisfied: numpy in c:\\users\\shakil uz zaman\\.conda\\envs\\py35\\lib\\site-packages (from xgboost) (1.15.2)\n",
      "Installing collected packages: xgboost\n",
      "Successfully installed xgboost-1.1.1\n"
     ]
    },
    {
     "name": "stderr",
     "output_type": "stream",
     "text": [
      "WARNING: You are using pip version 20.2; however, version 20.3.4 is available.\n",
      "You should consider upgrading via the 'c:\\users\\shakil uz zaman\\.conda\\envs\\py35\\python.exe -m pip install --upgrade pip' command.\n"
     ]
    }
   ],
   "source": [
    "!pip install xgboost"
   ]
  },
  {
   "cell_type": "code",
   "execution_count": 73,
   "metadata": {
    "ExecuteTime": {
     "end_time": "2021-02-28T15:34:48.261251Z",
     "start_time": "2021-02-28T15:34:45.054310Z"
    }
   },
   "outputs": [
    {
     "name": "stderr",
     "output_type": "stream",
     "text": [
      "C:\\Users\\shakil uz zaman\\.conda\\envs\\py35\\lib\\site-packages\\xgboost\\__init__.py:29: FutureWarning:\n",
      "\n",
      "Python 3.5 support is deprecated; XGBoost will require Python 3.6+ in the near future. Consider upgrading to Python 3.6+.\n",
      "\n"
     ]
    }
   ],
   "source": [
    "from sklearn.model_selection import StratifiedKFold\n",
    "from xgboost import XGBClassifier\n"
   ]
  },
  {
   "cell_type": "code",
   "execution_count": 74,
   "metadata": {
    "ExecuteTime": {
     "end_time": "2021-02-28T15:34:54.992148Z",
     "start_time": "2021-02-28T15:34:54.801602Z"
    }
   },
   "outputs": [],
   "source": [
    "xgb = XGBClassifier(learning_rate=0.02, n_estimators=600, objective='binary:logistic',\n",
    "                    silent=True, nthread=1)"
   ]
  },
  {
   "cell_type": "code",
   "execution_count": 77,
   "metadata": {
    "ExecuteTime": {
     "end_time": "2021-02-28T15:44:56.126560Z",
     "start_time": "2021-02-28T15:36:13.164557Z"
    }
   },
   "outputs": [
    {
     "name": "stdout",
     "output_type": "stream",
     "text": [
      "Fitting 5 folds for each of 5 candidates, totalling 25 fits\n"
     ]
    },
    {
     "name": "stderr",
     "output_type": "stream",
     "text": [
      "[Parallel(n_jobs=2)]: Using backend LokyBackend with 2 concurrent workers.\n",
      "[Parallel(n_jobs=2)]: Done  25 out of  25 | elapsed:  8.0min finished\n"
     ]
    },
    {
     "name": "stdout",
     "output_type": "stream",
     "text": [
      "[21:14:11] WARNING: C:\\Users\\Administrator\\workspace\\xgboost-win64_release_1.1.0\\src\\learner.cc:480: \n",
      "Parameters: { silent } might not be used.\n",
      "\n",
      "  This may not be accurate due to some parameters are only used in language bindings but\n",
      "  passed down to XGBoost core.  Or some parameters are not used but slip through this\n",
      "  verification. Please open an issue if you find above cases.\n",
      "\n",
      "\n"
     ]
    },
    {
     "data": {
      "text/plain": [
       "RandomizedSearchCV(cv=<generator object _BaseKFold.split at 0x0000021E0C671990>,\n",
       "          error_score='raise-deprecating',\n",
       "          estimator=XGBClassifier(base_score=None, booster=None, colsample_bylevel=None,\n",
       "       colsample_bynode=None, colsample_bytree=None, gamma=None,\n",
       "       gpu_id=None, importance_type='gain', interaction_constraints=None,\n",
       "       learning_rate=0.02, max_delta_step=None, max_depth=None,\n",
       "       min_child_w...one, silent=True, subsample=None,\n",
       "       tree_method=None, validate_parameters=None, verbosity=None),\n",
       "          fit_params=None, iid='warn', n_iter=5, n_jobs=2,\n",
       "          param_distributions={'subsample': [0.6, 0.8, 1.0], 'gamma': [0.5, 1, 1.5, 2, 5], 'max_depth': [3, 4, 5], 'colsample_bytree': [0.6, 0.8, 1.0], 'min_child_weight': [1, 5, 10]},\n",
       "          pre_dispatch='2*n_jobs', random_state=1001, refit=True,\n",
       "          return_train_score='warn', scoring='roc_auc', verbose=3)"
      ]
     },
     "execution_count": 77,
     "metadata": {},
     "output_type": "execute_result"
    }
   ],
   "source": [
    "folds = 5\n",
    "param_comb = 5\n",
    "\n",
    "skf = StratifiedKFold(n_splits=folds, shuffle = True, random_state = 1001)\n",
    "\n",
    "random_search = RandomizedSearchCV(xgb, param_distributions=params, n_iter=param_comb, scoring='roc_auc', n_jobs=2, cv=skf.split(X_train,y_train), verbose=3, random_state=1001 )\n",
    "\n",
    "# Here we go\n",
    "#start_time = timer(None) # timing starts from this point for \"start_time\" variable\n",
    "random_search.fit(X_train, y_train)\n",
    "#timer(start_time) # timing ends here for \"start_time\" variable"
   ]
  },
  {
   "cell_type": "code",
   "execution_count": 78,
   "metadata": {
    "ExecuteTime": {
     "end_time": "2021-02-28T15:46:53.166931Z",
     "start_time": "2021-02-28T15:46:52.968435Z"
    }
   },
   "outputs": [
    {
     "name": "stdout",
     "output_type": "stream",
     "text": [
      "\n",
      " Best hyperparameters:\n",
      "{'subsample': 0.8, 'gamma': 1, 'colsample_bytree': 0.8, 'max_depth': 5, 'min_child_weight': 5}\n"
     ]
    }
   ],
   "source": [
    "print('\\n Best hyperparameters:')\n",
    "print(random_search.best_params_)"
   ]
  },
  {
   "cell_type": "code",
   "execution_count": 79,
   "metadata": {
    "ExecuteTime": {
     "end_time": "2021-02-28T15:46:55.612169Z",
     "start_time": "2021-02-28T15:46:54.630949Z"
    }
   },
   "outputs": [],
   "source": [
    "y_pred_roc_xg=random_search.predict_proba(X_test)[:,1]"
   ]
  },
  {
   "cell_type": "code",
   "execution_count": 82,
   "metadata": {
    "ExecuteTime": {
     "end_time": "2021-02-28T15:47:40.058112Z",
     "start_time": "2021-02-28T15:47:39.844533Z"
    }
   },
   "outputs": [
    {
     "name": "stdout",
     "output_type": "stream",
     "text": [
      "0.649247393170176\n"
     ]
    }
   ],
   "source": [
    "print(roc_auc_score(y_test,y_pred_roc_xg))"
   ]
  },
  {
   "cell_type": "code",
   "execution_count": 104,
   "metadata": {
    "ExecuteTime": {
     "end_time": "2021-02-28T16:49:12.413934Z",
     "start_time": "2021-02-28T16:49:12.204865Z"
    }
   },
   "outputs": [],
   "source": [
    "ID = df_test['ID']"
   ]
  },
  {
   "cell_type": "code",
   "execution_count": 105,
   "metadata": {
    "ExecuteTime": {
     "end_time": "2021-02-28T16:49:30.669910Z",
     "start_time": "2021-02-28T16:49:30.397862Z"
    }
   },
   "outputs": [],
   "source": [
    "test_no_id = df_test.drop('ID', axis=1)"
   ]
  },
  {
   "cell_type": "code",
   "execution_count": 106,
   "metadata": {
    "ExecuteTime": {
     "end_time": "2021-02-28T16:50:21.708433Z",
     "start_time": "2021-02-28T16:50:17.833001Z"
    }
   },
   "outputs": [],
   "source": [
    "test_predictions = random_search.predict_proba(test_no_id)[:,1]\n",
    "results_df = pd.DataFrame(data={'ID': df_test['ID'], 'Response':test_predictions})\n",
    "results_df.to_csv('submission_1.csv', index=False)"
   ]
  },
  {
   "cell_type": "code",
   "execution_count": null,
   "metadata": {},
   "outputs": [],
   "source": []
  }
 ],
 "metadata": {
  "kernelspec": {
   "display_name": "Python 3",
   "language": "python",
   "name": "python3"
  },
  "language_info": {
   "codemirror_mode": {
    "name": "ipython",
    "version": 3
   },
   "file_extension": ".py",
   "mimetype": "text/x-python",
   "name": "python",
   "nbconvert_exporter": "python",
   "pygments_lexer": "ipython3",
   "version": "3.5.6"
  },
  "latex_envs": {
   "LaTeX_envs_menu_present": true,
   "autoclose": false,
   "autocomplete": true,
   "bibliofile": "biblio.bib",
   "cite_by": "apalike",
   "current_citInitial": 1,
   "eqLabelWithNumbers": true,
   "eqNumInitial": 1,
   "hotkeys": {
    "equation": "Ctrl-E",
    "itemize": "Ctrl-I"
   },
   "labels_anchors": false,
   "latex_user_defs": false,
   "report_style_numbering": false,
   "user_envs_cfg": false
  }
 },
 "nbformat": 4,
 "nbformat_minor": 4
}
